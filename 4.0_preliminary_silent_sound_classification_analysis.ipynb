{
  "nbformat": 4,
  "nbformat_minor": 0,
  "metadata": {
    "colab": {
      "name": "Final Classification Models: Silent/Sound data.ipynb",
      "provenance": [],
      "collapsed_sections": [],
      "toc_visible": true,
      "machine_shape": "hm"
    },
    "kernelspec": {
      "name": "python3",
      "display_name": "Python 3"
    }
  },
  "cells": [
    {
      "cell_type": "markdown",
      "metadata": {
        "id": "0MRC0e0KhQ0S"
      },
      "source": [
        "# Preliminary silent-sound classification analysis"
      ]
    },
    {
      "cell_type": "markdown",
      "metadata": {
        "id": "LWd1UlMnhT2s"
      },
      "source": [
        "## Importing the libraries"
      ]
    },
    {
      "cell_type": "code",
      "metadata": {
        "id": "fnlbGVXuZEAh"
      },
      "source": [
        "import numpy as np\n",
        "import matplotlib.pyplot as plt\n",
        "import pandas as pd"
      ],
      "execution_count": null,
      "outputs": []
    },
    {
      "cell_type": "markdown",
      "metadata": {
        "id": "K1VMqkGvhc3-"
      },
      "source": [
        "## Importing the dataset"
      ]
    },
    {
      "cell_type": "code",
      "metadata": {
        "id": "iEqBFGc2ZFzn"
      },
      "source": [
        "styleSilentShot = pd.read_excel('filmStyleSilentTrimmedForPython.xlsx')\n",
        "x = styleSilentShot.iloc[: , 1:-1].values # These are the predictor, independent variables (the 1:-1 excludes the first and last columns)\n",
        "y = styleSilentShot.iloc[: , -1].values # These are the target variables (or classes, in this case)"
      ],
      "execution_count": null,
      "outputs": []
    },
    {
      "cell_type": "code",
      "metadata": {
        "colab": {
          "base_uri": "https://localhost:8080/"
        },
        "id": "44N4R_kjv0GW",
        "outputId": "0ed8fd45-d551-4d7b-952a-8434ff36d810"
      },
      "source": [
        "print(x[0,:])"
      ],
      "execution_count": null,
      "outputs": [
        {
          "output_type": "stream",
          "text": [
            "['USA' 6.7 58 4.0 2.0 0 64.0 224 82 37 36 53 3]\n"
          ],
          "name": "stdout"
        }
      ]
    },
    {
      "cell_type": "code",
      "metadata": {
        "colab": {
          "base_uri": "https://localhost:8080/",
          "height": 197
        },
        "id": "-zTp21BMqK6Q",
        "outputId": "b838a07d-8710-4419-ea2f-36ceb7b4a22a"
      },
      "source": [
        "styleSilentShot.head()"
      ],
      "execution_count": null,
      "outputs": [
        {
          "output_type": "execute_result",
          "data": {
            "text/html": [
              "<div>\n",
              "<style scoped>\n",
              "    .dataframe tbody tr th:only-of-type {\n",
              "        vertical-align: middle;\n",
              "    }\n",
              "\n",
              "    .dataframe tbody tr th {\n",
              "        vertical-align: top;\n",
              "    }\n",
              "\n",
              "    .dataframe thead th {\n",
              "        text-align: right;\n",
              "    }\n",
              "</style>\n",
              "<table border=\"1\" class=\"dataframe\">\n",
              "  <thead>\n",
              "    <tr style=\"text-align: right;\">\n",
              "      <th></th>\n",
              "      <th>Title</th>\n",
              "      <th>COUNTRY</th>\n",
              "      <th>ASL</th>\n",
              "      <th>RA</th>\n",
              "      <th>POV</th>\n",
              "      <th>INS</th>\n",
              "      <th>INTERTIT</th>\n",
              "      <th>BCU</th>\n",
              "      <th>CU</th>\n",
              "      <th>MCU</th>\n",
              "      <th>MS</th>\n",
              "      <th>MLS</th>\n",
              "      <th>LS</th>\n",
              "      <th>VLS</th>\n",
              "      <th>Sound</th>\n",
              "    </tr>\n",
              "  </thead>\n",
              "  <tbody>\n",
              "    <tr>\n",
              "      <th>0</th>\n",
              "      <td>10 Things I Hate About You</td>\n",
              "      <td>USA</td>\n",
              "      <td>6.7</td>\n",
              "      <td>58</td>\n",
              "      <td>4.0</td>\n",
              "      <td>2.0</td>\n",
              "      <td>0</td>\n",
              "      <td>64.0</td>\n",
              "      <td>224</td>\n",
              "      <td>82</td>\n",
              "      <td>37</td>\n",
              "      <td>36</td>\n",
              "      <td>53</td>\n",
              "      <td>3</td>\n",
              "      <td>1</td>\n",
              "    </tr>\n",
              "    <tr>\n",
              "      <th>1</th>\n",
              "      <td>Adventures of Robin Hood, The</td>\n",
              "      <td>USA</td>\n",
              "      <td>5.0</td>\n",
              "      <td>0</td>\n",
              "      <td>0.0</td>\n",
              "      <td>0.0</td>\n",
              "      <td>0</td>\n",
              "      <td>3.0</td>\n",
              "      <td>53</td>\n",
              "      <td>71</td>\n",
              "      <td>77</td>\n",
              "      <td>109</td>\n",
              "      <td>111</td>\n",
              "      <td>76</td>\n",
              "      <td>1</td>\n",
              "    </tr>\n",
              "    <tr>\n",
              "      <th>2</th>\n",
              "      <td>Affairs of Anatole, The</td>\n",
              "      <td>USA</td>\n",
              "      <td>8.0</td>\n",
              "      <td>23</td>\n",
              "      <td>16.0</td>\n",
              "      <td>9.0</td>\n",
              "      <td>159</td>\n",
              "      <td>33.0</td>\n",
              "      <td>26</td>\n",
              "      <td>89</td>\n",
              "      <td>141</td>\n",
              "      <td>136</td>\n",
              "      <td>70</td>\n",
              "      <td>5</td>\n",
              "      <td>0</td>\n",
              "    </tr>\n",
              "    <tr>\n",
              "      <th>3</th>\n",
              "      <td>Alexander Nevsky</td>\n",
              "      <td>RUS</td>\n",
              "      <td>7.0</td>\n",
              "      <td>0</td>\n",
              "      <td>0.0</td>\n",
              "      <td>0.0</td>\n",
              "      <td>7</td>\n",
              "      <td>1.0</td>\n",
              "      <td>61</td>\n",
              "      <td>100</td>\n",
              "      <td>58</td>\n",
              "      <td>76</td>\n",
              "      <td>186</td>\n",
              "      <td>23</td>\n",
              "      <td>1</td>\n",
              "    </tr>\n",
              "    <tr>\n",
              "      <th>4</th>\n",
              "      <td>Alley Cat</td>\n",
              "      <td>BRI</td>\n",
              "      <td>6.0</td>\n",
              "      <td>10</td>\n",
              "      <td>0.0</td>\n",
              "      <td>0.0</td>\n",
              "      <td>148</td>\n",
              "      <td>17.0</td>\n",
              "      <td>68</td>\n",
              "      <td>84</td>\n",
              "      <td>82</td>\n",
              "      <td>101</td>\n",
              "      <td>142</td>\n",
              "      <td>5</td>\n",
              "      <td>0</td>\n",
              "    </tr>\n",
              "  </tbody>\n",
              "</table>\n",
              "</div>"
            ],
            "text/plain": [
              "                           Title COUNTRY  ASL  RA  ...  MLS   LS  VLS  Sound\n",
              "0     10 Things I Hate About You     USA  6.7  58  ...   36   53    3      1\n",
              "1  Adventures of Robin Hood, The     USA  5.0   0  ...  109  111   76      1\n",
              "2        Affairs of Anatole, The     USA  8.0  23  ...  136   70    5      0\n",
              "3               Alexander Nevsky     RUS  7.0   0  ...   76  186   23      1\n",
              "4                      Alley Cat     BRI  6.0  10  ...  101  142    5      0\n",
              "\n",
              "[5 rows x 15 columns]"
            ]
          },
          "metadata": {
            "tags": []
          },
          "execution_count": 6
        }
      ]
    },
    {
      "cell_type": "markdown",
      "metadata": {
        "id": "DxwKoQ3bjv9g"
      },
      "source": [
        "## Taking care of missing data"
      ]
    },
    {
      "cell_type": "code",
      "metadata": {
        "id": "LZwmCjRijyMv"
      },
      "source": [
        "from sklearn.impute import SimpleImputer\n",
        "imputer = SimpleImputer(missing_values=np.nan, strategy='mean')\n",
        "imputer.fit(x[: , 1:]) # Only the columns containing the numerical values\n",
        "x[: , 1:] = imputer.transform(x[: , 1:]) # Update the variable x\n",
        "# print(x[: , 1:])"
      ],
      "execution_count": null,
      "outputs": []
    },
    {
      "cell_type": "markdown",
      "metadata": {
        "id": "91FuwRURZZxP"
      },
      "source": [
        "## Encoding the independent variable"
      ]
    },
    {
      "cell_type": "code",
      "metadata": {
        "id": "bFKOp0UQZiVX"
      },
      "source": [
        "from sklearn.compose import ColumnTransformer\n",
        "from sklearn.preprocessing import OneHotEncoder\n",
        "ct = ColumnTransformer(transformers=[('encoder', OneHotEncoder(), [0])], remainder='passthrough')\n",
        "x = np.array(ct.fit_transform(x))"
      ],
      "execution_count": null,
      "outputs": []
    },
    {
      "cell_type": "markdown",
      "metadata": {
        "id": "YvxIPVyMhmKp"
      },
      "source": [
        "## Splitting the dataset into the Training set and Test set"
      ]
    },
    {
      "cell_type": "code",
      "metadata": {
        "id": "J0iWULlmZqKo"
      },
      "source": [
        "from sklearn.model_selection import train_test_split\n",
        "x_train, x_test, y_train, y_test = train_test_split(x, y, test_size = 0.2)"
      ],
      "execution_count": null,
      "outputs": []
    },
    {
      "cell_type": "code",
      "metadata": {
        "id": "4gKtKRsSmDVX"
      },
      "source": [
        "# Print whole matrices \n",
        "import sys\n",
        "import numpy as np\n",
        "np.set_printoptions(threshold=sys.maxsize)"
      ],
      "execution_count": null,
      "outputs": []
    },
    {
      "cell_type": "code",
      "metadata": {
        "id": "23e02HFrl3H3",
        "colab": {
          "base_uri": "https://localhost:8080/"
        },
        "outputId": "08aac3ee-04de-47ff-83c6-c2f7d6d2c9ed"
      },
      "source": [
        "print(x_test)"
      ],
      "execution_count": null,
      "outputs": [
        {
          "output_type": "stream",
          "text": [
            "[[0.0 0.0 0.0 0.0 0.0 0.0 0.0 0.0 0.0 1.0 12.0 49.0 7.0 3.0 0.0 3.0 86.0\n",
            "  127.0 104.0 86.0 91.0 3.0]\n",
            " [0.0 0.0 0.0 1.0 0.0 0.0 0.0 0.0 0.0 0.0 8.0 14.0 0.0 0.0 95.0 0.0 7.0\n",
            "  27.0 74.0 123.0 243.0 26.0]\n",
            " [0.0 0.0 0.0 1.0 0.0 0.0 0.0 0.0 0.0 0.0 14.5 0.0 0.0 0.0 55.0 0.0 3.0\n",
            "  7.0 54.0 289.0 143.0 3.0]\n",
            " [0.0 0.0 0.0 0.0 0.0 0.0 0.0 0.0 0.0 1.0 9.9 63.0 4.0 2.0 0.0 25.0 227.0\n",
            "  84.0 41.0 77.0 46.0 0.0]\n",
            " [0.0 0.0 0.0 0.0 0.0 0.0 0.0 0.0 0.0 1.0 6.8 12.0 7.0 4.0 151.0 18.0\n",
            "  78.0 85.0 49.0 110.0 160.0 0.0]\n",
            " [0.0 1.0 0.0 0.0 0.0 0.0 0.0 0.0 0.0 0.0 16.0 16.0 0.0 6.0 0.0 9.0 9.0\n",
            "  34.0 70.0 134.0 233.0 11.0]\n",
            " [0.0 0.0 0.0 0.0 0.0 0.0 0.0 0.0 0.0 1.0 8.2 12.0 12.0 12.0 94.0 40.0\n",
            "  39.0 61.0 118.0 142.0 96.0 4.0]\n",
            " [0.0 0.0 0.0 0.0 0.0 0.0 0.0 0.0 0.0 1.0 13.0 29.0 0.0 0.0 0.0 28.0\n",
            "  117.0 83.0 96.0 76.0 73.0 27.0]\n",
            " [0.0 1.0 0.0 0.0 0.0 0.0 0.0 0.0 0.0 0.0 9.8 49.0 0.0 0.0 0.0 25.0 176.0\n",
            "  187.0 82.0 27.0 2.0 0.0]\n",
            " [0.0 0.0 1.0 0.0 0.0 0.0 0.0 0.0 0.0 0.0 11.0 0.0 0.0 0.0 0.0 12.0 46.0\n",
            "  58.0 119.0 90.0 108.0 66.0]\n",
            " [0.0 0.0 0.0 1.0 0.0 0.0 0.0 0.0 0.0 0.0 10.0 24.0 11.0 5.0 0.0 15.0\n",
            "  50.0 61.0 76.0 104.0 156.0 38.0]\n",
            " [0.0 0.0 0.0 1.0 0.0 0.0 0.0 0.0 0.0 0.0 23.5 0.0 0.0 0.0 36.0 0.0 0.0\n",
            "  0.0 7.0 384.0 109.0 0.0]\n",
            " [0.0 0.0 0.0 1.0 0.0 0.0 0.0 0.0 0.0 0.0 26.5 0.0 0.0 2.0 25.0 11.0 11.0\n",
            "  17.0 11.0 219.0 214.0 17.0]\n",
            " [0.0 0.0 0.0 0.0 0.0 0.0 0.0 0.0 0.0 1.0 16.0 0.0 0.0 0.0 0.0 16.0 50.0\n",
            "  71.0 116.0 116.0 108.0 24.0]\n",
            " [0.0 0.0 0.0 1.0 0.0 0.0 0.0 0.0 0.0 0.0 9.0 0.0 0.0 0.0 158.0 9.0 28.0\n",
            "  40.0 48.0 132.0 233.0 11.0]\n",
            " [0.0 0.0 0.0 0.0 0.0 0.0 0.0 0.0 0.0 1.0 5.5 0.0 0.0 3.0 224.0 4.0 29.0\n",
            "  59.0 50.0 102.0 122.0 134.0]\n",
            " [0.0 1.0 0.0 0.0 0.0 0.0 0.0 0.0 0.0 0.0 7.0 25.0 21.0 25.0 20.0 24.0\n",
            "  75.0 75.0 75.0 88.0 131.0 33.0]\n",
            " [0.0 0.0 0.0 0.0 0.0 0.0 0.0 0.0 0.0 1.0 9.0 37.0 11.0 8.0 0.0 24.0\n",
            "  101.0 107.0 83.0 100.0 78.0 8.0]\n",
            " [0.0 0.0 1.0 0.0 0.0 0.0 0.0 0.0 0.0 0.0 7.1 3.0 0.0 20.0 104.0 29.0\n",
            "  33.0 17.0 67.0 96.0 220.0 38.0]\n",
            " [0.0 0.0 0.0 0.0 0.0 0.0 0.0 1.0 0.0 0.0 7.5 4.0 0.0 0.0 0.0 41.0 131.0\n",
            "  89.0 50.0 57.0 116.0 14.0]\n",
            " [0.0 0.0 1.0 0.0 0.0 0.0 0.0 0.0 0.0 0.0 6.0 19.0 8.0 10.0 121.0 14.0\n",
            "  26.0 69.0 72.0 125.0 177.0 18.0]\n",
            " [0.0 1.0 0.0 0.0 0.0 0.0 0.0 0.0 0.0 0.0 6.5 24.0 13.0 12.0 63.0 41.0\n",
            "  65.0 90.0 89.0 98.0 112.0 6.0]\n",
            " [0.0 0.0 1.0 0.0 0.0 0.0 0.0 0.0 0.0 0.0 9.0 31.0 0.0 0.0 0.0 28.0 34.0\n",
            "  80.0 87.0 80.0 133.0 56.0]\n",
            " [0.0 0.0 0.0 0.0 0.0 0.0 0.0 0.0 0.0 1.0 13.3 27.0 10.0 8.0 0.0 19.0\n",
            "  25.0 68.0 95.0 194.0 92.0 8.0]\n",
            " [0.0 0.0 0.0 0.0 0.0 0.0 0.0 0.0 0.0 1.0 14.4 43.0 9.0 6.0 0.0 7.0 166.0\n",
            "  69.0 105.0 55.0 93.0 7.0]\n",
            " [0.0 0.0 0.0 0.0 0.0 0.0 0.0 0.0 0.0 1.0 8.5 0.0 0.0 4.0 93.0 7.0 53.0\n",
            "  76.0 93.0 50.0 170.0 54.0]\n",
            " [0.0 0.0 0.0 0.0 0.0 0.0 0.0 0.0 0.0 1.0 11.3 35.0 5.0 5.0 0.0 25.0\n",
            "  137.0 103.0 69.0 116.0 43.0 7.0]\n",
            " [0.0 0.0 0.0 0.0 0.0 1.0 0.0 0.0 0.0 0.0 13.0 0.0 0.0 0.0 0.0 65.0 40.0\n",
            "  81.0 110.0 84.0 80.0 40.0]\n",
            " [0.0 0.0 1.0 0.0 0.0 0.0 0.0 0.0 0.0 0.0 4.8 24.0 18.0 8.0 70.0 11.0\n",
            "  25.0 64.0 81.0 104.0 179.0 35.0]\n",
            " [0.0 0.0 0.0 0.0 0.0 0.0 0.0 0.0 0.0 1.0 10.5 0.0 0.0 0.0 0.0 21.0 39.0\n",
            "  79.0 95.0 129.0 132.0 5.0]\n",
            " [0.0 0.0 0.0 0.0 0.0 0.0 0.0 0.0 0.0 1.0 7.0 0.0 0.0 0.0 0.0 13.0 48.0\n",
            "  101.0 109.0 106.0 84.0 39.0]\n",
            " [0.0 0.0 0.0 0.0 0.0 0.0 1.0 0.0 0.0 0.0 5.7 11.0 4.0 1.0 184.0 3.0 23.0\n",
            "  68.0 45.0 101.0 195.0 65.0]\n",
            " [0.0 0.0 0.0 0.0 0.0 0.0 0.0 0.0 0.0 1.0 11.5 34.0 4.0 8.0 0.0 63.0\n",
            "  176.0 138.0 63.0 19.0 30.0 13.0]\n",
            " [0.0 0.0 0.0 1.0 0.0 0.0 0.0 0.0 0.0 0.0 7.5 0.0 0.0 0.0 161.0 19.0 50.0\n",
            "  45.0 39.0 112.0 216.0 19.0]\n",
            " [0.0 0.0 0.0 1.0 0.0 0.0 0.0 0.0 0.0 0.0 10.5 21.0 6.0 8.0 0.0 16.0 31.0\n",
            "  33.0 101.0 96.0 203.0 20.0]\n",
            " [0.0 0.0 0.0 0.0 0.0 0.0 0.0 0.0 0.0 1.0 7.0 45.0 15.0 14.0 0.0 15.0\n",
            "  59.0 115.0 96.0 81.0 111.0 23.0]\n",
            " [0.0 1.0 0.0 0.0 0.0 0.0 0.0 0.0 0.0 0.0 9.5 22.0 10.0 7.0 0.0 29.0\n",
            "  107.0 92.0 77.0 94.0 98.0 3.0]\n",
            " [0.0 0.0 0.0 1.0 0.0 0.0 0.0 0.0 0.0 0.0 14.0 24.0 16.0 13.0 0.0 13.0\n",
            "  38.0 72.0 103.0 123.0 118.0 32.0]\n",
            " [0.0 0.0 0.0 0.0 0.0 0.0 0.0 0.0 0.0 1.0 5.0 0.0 0.0 4.0 184.0 3.0 59.0\n",
            "  76.0 78.0 49.0 135.0 100.0]\n",
            " [0.0 0.0 0.0 0.0 0.0 0.0 0.0 0.0 0.0 1.0 5.0 18.0 15.0 8.0 124.0 13.0\n",
            "  21.0 65.0 62.0 123.0 181.0 35.0]\n",
            " [0.0 0.0 0.0 0.0 0.0 0.0 0.0 0.0 0.0 1.0 11.0 0.0 0.0 0.0 0.0 8.0 20.0\n",
            "  70.0 95.0 121.0 145.0 42.0]\n",
            " [0.0 0.0 0.0 1.0 0.0 0.0 0.0 0.0 0.0 0.0 25.0 0.0 0.0 8.0 37.0 0.0 7.0\n",
            "  0.0 7.0 239.0 171.0 75.0]\n",
            " [0.0 1.0 0.0 0.0 0.0 0.0 0.0 0.0 0.0 0.0 7.0 25.0 0.0 0.0 131.0 12.0\n",
            "  37.0 113.0 134.0 103.0 94.0 6.0]\n",
            " [0.0 0.0 1.0 0.0 0.0 0.0 0.0 0.0 0.0 0.0 6.0 12.0 14.0 17.0 135.0 13.0\n",
            "  46.0 33.0 51.0 83.0 217.0 58.0]\n",
            " [0.0 0.0 0.0 0.0 0.0 0.0 0.0 0.0 0.0 1.0 6.5 0.0 0.0 0.0 0.0 14.0 69.0\n",
            "  112.0 83.0 104.0 94.0 24.0]\n",
            " [0.0 0.0 0.0 0.0 0.0 0.0 0.0 0.0 1.0 0.0 0.0 15.0 0.0 0.0 69.0 11.0 36.0\n",
            "  40.0 159.0 166.0 80.0 8.0]\n",
            " [0.0 0.0 0.0 1.0 0.0 0.0 0.0 0.0 0.0 0.0 13.5 0.0 0.0 0.0 0.0 8.0 35.0\n",
            "  102.0 123.0 116.0 87.0 24.0]\n",
            " [0.0 0.0 0.0 0.0 0.0 0.0 0.0 0.0 0.0 1.0 6.5 59.0 4.0 3.0 0.0 68.0 246.0\n",
            "  88.0 54.0 33.0 12.0 1.0]\n",
            " [0.0 0.0 0.0 0.0 0.0 0.0 0.0 0.0 0.0 1.0 7.0 0.0 0.0 4.0 193.0 14.0\n",
            "  100.0 115.0 81.0 68.0 69.0 53.0]\n",
            " [0.0 0.0 0.0 0.0 0.0 0.0 0.0 0.0 0.0 1.0 5.5 0.0 0.0 2.0 163.0 4.0 58.0\n",
            "  80.0 85.0 156.0 94.0 8.0]\n",
            " [0.0 0.0 0.0 0.0 0.0 0.0 0.0 0.0 0.0 1.0 6.0 70.0 2.0 2.0 0.0 54.0 322.0\n",
            "  50.0 28.0 20.0 21.0 4.0]\n",
            " [0.0 0.0 0.0 0.0 0.0 0.0 0.0 0.0 0.0 1.0 11.7 34.0 8.0 3.0 0.0 28.0\n",
            "  118.0 76.0 90.0 83.0 103.0 4.0]\n",
            " [0.0 0.0 0.0 0.0 0.0 0.0 0.0 0.0 0.0 1.0 6.4 41.0 13.0 15.0 0.0 215.0\n",
            "  115.0 51.0 45.0 30.0 32.0 11.0]\n",
            " [0.0 0.0 1.0 0.0 0.0 0.0 0.0 0.0 0.0 0.0 7.0 10.0 0.0 0.0 0.0 3.0 48.0\n",
            "  83.0 86.0 139.0 130.0 11.0]\n",
            " [0.0 0.0 0.0 0.0 0.0 0.0 0.0 0.0 1.0 0.0 18.0 18.0 21.0 8.0 45.0 42.0\n",
            "  0.0 3.0 16.0 127.0 301.0 10.0]\n",
            " [0.0 0.0 0.0 1.0 0.0 0.0 0.0 0.0 0.0 0.0 12.6 0.0 0.0 3.0 67.0 3.0 8.0\n",
            "  78.0 114.0 158.0 125.0 14.0]\n",
            " [0.0 0.0 0.0 0.0 0.0 0.0 0.0 0.0 0.0 1.0 3.8 36.0 4.0 22.0 0.0 134.0\n",
            "  147.0 50.0 47.0 37.0 80.0 5.0]\n",
            " [0.0 0.0 0.0 0.0 0.0 0.0 0.0 0.0 0.0 1.0 24.0 10.0 11.0 6.0 47.0 34.0\n",
            "  0.0 3.0 28.0 170.0 265.0 0.0]\n",
            " [0.0 0.0 0.0 0.0 0.0 0.0 0.0 0.0 0.0 1.0 4.9 25.0 5.0 3.0 0.0 56.0 107.0\n",
            "  60.0 58.0 60.0 133.0 13.0]\n",
            " [0.0 1.0 0.0 0.0 0.0 0.0 0.0 0.0 0.0 0.0 9.3 45.0 11.0 6.0 0.0 13.0 80.0\n",
            "  109.0 95.0 96.0 105.0 1.0]\n",
            " [0.0 0.0 0.0 0.0 0.0 0.0 0.0 0.0 0.0 1.0 6.5 0.0 0.0 0.0 0.0 14.0 127.0\n",
            "  70.0 86.0 71.0 41.0 91.0]\n",
            " [0.0 0.0 0.0 1.0 0.0 0.0 0.0 0.0 0.0 0.0 8.0 0.0 0.0 0.0 157.0 2.0 29.0\n",
            "  38.0 60.0 192.0 162.0 16.0]\n",
            " [0.0 0.0 0.0 0.0 0.0 0.0 0.0 0.0 0.0 1.0 8.0 32.0 0.0 0.0 0.0 15.0 62.0\n",
            "  136.0 107.0 101.0 65.0 13.0]\n",
            " [0.0 0.0 1.0 0.0 0.0 0.0 0.0 0.0 0.0 0.0 18.0 0.0 0.0 0.0 0.0 1.0 20.0\n",
            "  55.0 114.0 108.0 135.0 61.0]\n",
            " [0.0 0.0 0.0 0.0 0.0 0.0 0.0 0.0 0.0 1.0 11.3 29.0 11.0 8.0 0.0 20.0\n",
            "  43.0 99.0 115.0 127.0 95.0 1.0]\n",
            " [0.0 0.0 0.0 0.0 0.0 0.0 0.0 0.0 0.0 1.0 12.0 43.0 7.0 8.0 0.0 60.0\n",
            "  165.0 125.0 67.0 19.0 56.0 8.0]\n",
            " [0.0 0.0 0.0 0.0 0.0 0.0 0.0 0.0 0.0 1.0 9.0 0.0 0.0 0.0 0.0 6.0 34.0\n",
            "  109.0 166.0 86.0 34.0 65.0]\n",
            " [0.0 0.0 0.0 0.0 0.0 0.0 0.0 0.0 0.0 1.0 5.0 45.0 6.0 6.0 0.0 85.0 196.0\n",
            "  64.0 45.0 51.0 56.0 3.0]\n",
            " [0.0 1.0 0.0 0.0 0.0 0.0 0.0 0.0 0.0 0.0 6.5 24.0 12.0 8.0 0.0 27.0 96.0\n",
            "  124.0 75.0 67.0 95.0 16.0]\n",
            " [0.0 1.0 0.0 0.0 0.0 0.0 0.0 0.0 0.0 0.0 6.0 5.0 2.0 4.0 130.0 12.0 28.0\n",
            "  54.0 70.0 147.0 186.0 4.0]\n",
            " [0.0 0.0 0.0 0.0 0.0 0.0 0.0 0.0 0.0 1.0 8.4 27.0 7.0 9.0 0.0 55.0 135.0\n",
            "  90.0 66.0 107.0 32.0 15.0]\n",
            " [0.0 0.0 0.0 1.0 0.0 0.0 0.0 0.0 0.0 0.0 22.0 0.0 0.0 2.0 49.0 0.0 10.0\n",
            "  7.0 20.0 168.0 296.0 0.0]\n",
            " [0.0 0.0 0.0 0.0 0.0 0.0 0.0 0.0 0.0 1.0 6.4 23.0 5.0 10.0 0.0 20.0 81.0\n",
            "  92.0 72.0 117.0 114.0 3.0]\n",
            " [0.0 0.0 0.0 0.0 0.0 0.0 0.0 0.0 0.0 1.0 7.8 30.0 9.0 4.0 0.0 3.0 61.0\n",
            "  96.0 100.0 87.0 138.0 16.0]\n",
            " [0.0 1.0 0.0 0.0 0.0 0.0 0.0 0.0 0.0 0.0 8.5 0.0 0.0 0.0 0.0 0.0 29.0\n",
            "  111.0 135.0 61.0 105.0 59.0]\n",
            " [0.0 0.0 0.0 0.0 0.0 0.0 0.0 0.0 0.0 1.0 7.2 48.0 10.0 5.0 0.0 54.0\n",
            "  195.0 70.0 46.0 47.0 80.0 8.0]\n",
            " [0.0 0.0 0.0 0.0 0.0 0.0 0.0 0.0 0.0 1.0 4.7 48.0 1.0 2.0 0.0 6.0 335.0\n",
            "  91.0 42.0 17.0 6.0 3.0]\n",
            " [0.0 0.0 0.0 0.0 0.0 0.0 0.0 0.0 0.0 1.0 3.0 18.0 0.0 5.0 149.0 22.0\n",
            "  57.0 110.0 109.0 70.0 103.0 29.0]\n",
            " [0.0 0.0 0.0 1.0 0.0 0.0 0.0 0.0 0.0 0.0 7.0 0.0 0.0 0.0 96.0 8.0 40.0\n",
            "  48.0 55.0 90.0 211.0 47.0]]\n"
          ],
          "name": "stdout"
        }
      ]
    },
    {
      "cell_type": "code",
      "metadata": {
        "id": "sIjgMXuBl7UX",
        "colab": {
          "base_uri": "https://localhost:8080/"
        },
        "outputId": "e11c75e4-1153-4290-d56d-e7af484e20bc"
      },
      "source": [
        "print(y_test)"
      ],
      "execution_count": null,
      "outputs": [
        {
          "output_type": "stream",
          "text": [
            "[1 0 0 1 0 1 0 1 1 1 1 0 0 1 0 0 1 1 0 1 0 0 1 1 1 1 1 1 0 1 1 0 1 0 1 1 1\n",
            " 1 0 0 1 0 0 0 1 0 1 1 0 0 1 1 1 0 0 0 1 0 1 1 1 0 1 1 1 1 1 1 1 0 1 0 1 1\n",
            " 1 1 1 0 0]\n"
          ],
          "name": "stdout"
        }
      ]
    },
    {
      "cell_type": "markdown",
      "metadata": {
        "id": "kW3c7UYih0hT"
      },
      "source": [
        "## Feature Scaling"
      ]
    },
    {
      "cell_type": "code",
      "metadata": {
        "id": "9XB6WIy0Zu2w"
      },
      "source": [
        "from sklearn.preprocessing import StandardScaler # Using standardisation, not normalisation\n",
        "sc = StandardScaler()\n",
        "x_train[: , 11:] = sc.fit_transform(x_train[: , 11:]) # There are 10 columns allocated to the one hot encoded country classes\n",
        "x_test[: , 11:] = sc.transform(x_test[: , 11:]) # Using the same scaler (fit mean and std dev) as the training data because the test data is \"unavailable\""
      ],
      "execution_count": null,
      "outputs": []
    },
    {
      "cell_type": "markdown",
      "metadata": {
        "id": "ZV0rCZxbFLmb"
      },
      "source": [
        "# Logistic Regression"
      ]
    },
    {
      "cell_type": "markdown",
      "metadata": {
        "id": "bb6jCOCQiAmP"
      },
      "source": [
        "## Training the LR model "
      ]
    },
    {
      "cell_type": "code",
      "metadata": {
        "id": "XrlBn-1BZ6Ag",
        "colab": {
          "base_uri": "https://localhost:8080/"
        },
        "outputId": "0e2b70a0-b389-4408-fd00-9d927792b9a1"
      },
      "source": [
        "from sklearn.linear_model import LogisticRegression\n",
        "classifierLR = LogisticRegression()\n",
        "classifierLR.fit(x_train, y_train)"
      ],
      "execution_count": null,
      "outputs": [
        {
          "output_type": "execute_result",
          "data": {
            "text/plain": [
              "LogisticRegression(C=1.0, class_weight=None, dual=False, fit_intercept=True,\n",
              "                   intercept_scaling=1, l1_ratio=None, max_iter=100,\n",
              "                   multi_class='auto', n_jobs=None, penalty='l2',\n",
              "                   random_state=None, solver='lbfgs', tol=0.0001, verbose=0,\n",
              "                   warm_start=False)"
            ]
          },
          "metadata": {
            "tags": []
          },
          "execution_count": 20
        }
      ]
    },
    {
      "cell_type": "markdown",
      "metadata": {
        "id": "FZ02mEpNGpA0"
      },
      "source": [
        "## Predicting LR Test results"
      ]
    },
    {
      "cell_type": "code",
      "metadata": {
        "id": "Hqnpvq47Gs5b"
      },
      "source": [
        "y_pred = classifierLR.predict(x_test)\n",
        "np.set_printoptions(precision=2) # Specify the number of decimals if not a binary target variable\n",
        "# print(np.concatenate((y_pred.reshape(len(y_pred),1), y_test.reshape(len(y_test),1)),1)) # Col 1 = predictions, Col 2 = actual values"
      ],
      "execution_count": null,
      "outputs": []
    },
    {
      "cell_type": "markdown",
      "metadata": {
        "id": "h4Hwj34ziWQW"
      },
      "source": [
        "## Making the Confusion Matrix"
      ]
    },
    {
      "cell_type": "code",
      "metadata": {
        "colab": {
          "base_uri": "https://localhost:8080/"
        },
        "id": "xxVl6p4gF_J8",
        "outputId": "b3a8581a-d954-487c-8863-c3954614302b"
      },
      "source": [
        "from sklearn.metrics import confusion_matrix, accuracy_score, precision_score, recall_score\n",
        "cm = confusion_matrix(y_test, y_pred)\n",
        "cm = confusion_matrix(y_test, y_pred)\n",
        "print(cm)\n",
        "\n",
        "print(\"Accuracy:\",accuracy_score(y_test, y_pred))\n",
        "print(\"Precision:\",precision_score(y_test, y_pred))\n",
        "print(\"Recall:\",recall_score(y_test, y_pred))"
      ],
      "execution_count": null,
      "outputs": [
        {
          "output_type": "stream",
          "text": [
            "[[30  1]\n",
            " [ 1 47]]\n",
            "Accuracy: 0.9746835443037974\n",
            "Precision: 0.9791666666666666\n",
            "Recall: 0.9791666666666666\n"
          ],
          "name": "stdout"
        }
      ]
    },
    {
      "cell_type": "markdown",
      "metadata": {
        "id": "ES4_P45iqhAG"
      },
      "source": [
        "## k-fold cross validation\n"
      ]
    },
    {
      "cell_type": "code",
      "metadata": {
        "colab": {
          "base_uri": "https://localhost:8080/"
        },
        "id": "CvxHPEu_qtfr",
        "outputId": "6c60fd5c-c296-4ffa-c789-254abac2781e"
      },
      "source": [
        "from sklearn.model_selection import cross_val_score\n",
        "accuracies = cross_val_score(estimator = classifierLR, X = x_train, y = y_train, cv = 10) # 10-fold cross validation = 10 different test sets\n",
        "print(\"Logistic regression cross-validation\")\n",
        "print(\"Accuracy: {:.2f} %\".format(accuracies.mean()*100)) # Format: float with two decimals\n",
        "print(\"Standard deviation: {:.2f} %\".format(accuracies.std()*100))"
      ],
      "execution_count": null,
      "outputs": [
        {
          "output_type": "stream",
          "text": [
            "Logistic regression cross-validation\n",
            "Accuracy: 94.27 %\n",
            "Standard deviation: 3.40 %\n"
          ],
          "name": "stdout"
        }
      ]
    },
    {
      "cell_type": "markdown",
      "metadata": {
        "id": "YVI9iybAeRVT"
      },
      "source": [
        "## Feature selection using wrapper"
      ]
    },
    {
      "cell_type": "code",
      "metadata": {
        "id": "sp3ontXeeVDa",
        "colab": {
          "base_uri": "https://localhost:8080/"
        },
        "outputId": "1c3db0b4-900c-4083-8564-ef449892dc8d"
      },
      "source": [
        "from mlxtend.feature_selection import SequentialFeatureSelector as SFS\n",
        "# Documentation and math http://rasbt.github.io/mlxtend/user_guide/feature_selection/SequentialFeatureSelector/\n",
        "# Scoring: accuracy, f1, precision, recall, roc_auc\n",
        "\n",
        "sfs1 = SFS(estimator = classifierLR,\n",
        "           k_features = np.shape(x)[1],\n",
        "           forward=True,\n",
        "           scoring='accuracy',\n",
        "           cv=10    \n",
        ")\n",
        "\n",
        "sfs1.fit(x_train, y_train)\n",
        "sfs1.subsets_"
      ],
      "execution_count": null,
      "outputs": [
        {
          "output_type": "stream",
          "text": [
            "/usr/local/lib/python3.7/dist-packages/sklearn/externals/joblib/__init__.py:15: FutureWarning: sklearn.externals.joblib is deprecated in 0.21 and will be removed in 0.23. Please import this functionality directly from joblib, which can be installed with: pip install joblib. If this warning is raised when loading pickled models, you may need to re-serialize those models with scikit-learn 0.21+.\n",
            "  warnings.warn(msg, category=FutureWarning)\n"
          ],
          "name": "stderr"
        },
        {
          "output_type": "execute_result",
          "data": {
            "text/plain": [
              "{1: {'avg_score': 0.936290322580645,\n",
              "  'cv_scores': array([0.94, 0.97, 0.84, 1.  , 0.87, 1.  , 0.97, 0.97, 0.9 , 0.9 ]),\n",
              "  'feature_idx': (14,),\n",
              "  'feature_names': ('14',)},\n",
              " 2: {'avg_score': 0.9554435483870968,\n",
              "  'cv_scores': array([0.94, 0.97, 0.91, 1.  , 0.9 , 0.97, 1.  , 0.97, 0.94, 0.97]),\n",
              "  'feature_idx': (14, 20),\n",
              "  'feature_names': ('14', '20')},\n",
              " 3: {'avg_score': 0.9554435483870968,\n",
              "  'cv_scores': array([0.94, 0.97, 0.91, 1.  , 0.9 , 0.97, 1.  , 0.97, 0.94, 0.97]),\n",
              "  'feature_idx': (0, 14, 20),\n",
              "  'feature_names': ('0', '14', '20')},\n",
              " 4: {'avg_score': 0.9554435483870968,\n",
              "  'cv_scores': array([0.94, 0.97, 0.91, 1.  , 0.9 , 0.97, 1.  , 0.97, 0.94, 0.97]),\n",
              "  'feature_idx': (0, 2, 14, 20),\n",
              "  'feature_names': ('0', '2', '14', '20')},\n",
              " 5: {'avg_score': 0.9585685483870968,\n",
              "  'cv_scores': array([0.94, 0.97, 0.94, 1.  , 0.9 , 0.97, 1.  , 0.97, 0.94, 0.97]),\n",
              "  'feature_idx': (0, 2, 14, 15, 20),\n",
              "  'feature_names': ('0', '2', '14', '15', '20')},\n",
              " 6: {'avg_score': 0.9585685483870968,\n",
              "  'cv_scores': array([0.94, 0.97, 0.94, 1.  , 0.9 , 0.97, 1.  , 0.97, 0.94, 0.97]),\n",
              "  'feature_idx': (0, 1, 2, 14, 15, 20),\n",
              "  'feature_names': ('0', '1', '2', '14', '15', '20')},\n",
              " 7: {'avg_score': 0.9586693548387096,\n",
              "  'cv_scores': array([0.94, 0.97, 0.91, 1.  , 0.94, 0.97, 1.  , 0.97, 0.94, 0.97]),\n",
              "  'feature_idx': (0, 1, 2, 3, 14, 15, 20),\n",
              "  'feature_names': ('0', '1', '2', '3', '14', '15', '20')},\n",
              " 8: {'avg_score': 0.9586693548387096,\n",
              "  'cv_scores': array([0.94, 0.97, 0.91, 1.  , 0.94, 0.97, 1.  , 0.97, 0.94, 0.97]),\n",
              "  'feature_idx': (0, 1, 2, 3, 4, 14, 15, 20),\n",
              "  'feature_names': ('0', '1', '2', '3', '4', '14', '15', '20')},\n",
              " 9: {'avg_score': 0.9586693548387096,\n",
              "  'cv_scores': array([0.94, 0.97, 0.91, 1.  , 0.94, 0.97, 1.  , 0.97, 0.94, 0.97]),\n",
              "  'feature_idx': (0, 1, 2, 3, 4, 5, 14, 15, 20),\n",
              "  'feature_names': ('0', '1', '2', '3', '4', '5', '14', '15', '20')},\n",
              " 10: {'avg_score': 0.9586693548387096,\n",
              "  'cv_scores': array([0.94, 0.97, 0.91, 1.  , 0.94, 0.97, 1.  , 0.97, 0.94, 0.97]),\n",
              "  'feature_idx': (0, 1, 2, 3, 4, 5, 6, 14, 15, 20),\n",
              "  'feature_names': ('0', '1', '2', '3', '4', '5', '6', '14', '15', '20')},\n",
              " 11: {'avg_score': 0.9586693548387096,\n",
              "  'cv_scores': array([0.94, 0.97, 0.91, 1.  , 0.94, 0.97, 1.  , 0.97, 0.94, 0.97]),\n",
              "  'feature_idx': (0, 1, 2, 3, 4, 5, 6, 7, 14, 15, 20),\n",
              "  'feature_names': ('0', '1', '2', '3', '4', '5', '6', '7', '14', '15', '20')},\n",
              " 12: {'avg_score': 0.9586693548387096,\n",
              "  'cv_scores': array([0.94, 0.97, 0.91, 1.  , 0.94, 0.97, 1.  , 0.97, 0.94, 0.97]),\n",
              "  'feature_idx': (0, 1, 2, 3, 4, 5, 6, 7, 8, 14, 15, 20),\n",
              "  'feature_names': ('0',\n",
              "   '1',\n",
              "   '2',\n",
              "   '3',\n",
              "   '4',\n",
              "   '5',\n",
              "   '6',\n",
              "   '7',\n",
              "   '8',\n",
              "   '14',\n",
              "   '15',\n",
              "   '20')},\n",
              " 13: {'avg_score': 0.9554435483870968,\n",
              "  'cv_scores': array([0.94, 0.97, 0.91, 1.  , 0.9 , 0.97, 1.  , 0.97, 0.94, 0.97]),\n",
              "  'feature_idx': (0, 1, 2, 3, 4, 5, 6, 7, 8, 10, 14, 15, 20),\n",
              "  'feature_names': ('0',\n",
              "   '1',\n",
              "   '2',\n",
              "   '3',\n",
              "   '4',\n",
              "   '5',\n",
              "   '6',\n",
              "   '7',\n",
              "   '8',\n",
              "   '10',\n",
              "   '14',\n",
              "   '15',\n",
              "   '20')},\n",
              " 14: {'avg_score': 0.9554435483870968,\n",
              "  'cv_scores': array([0.94, 0.97, 0.91, 1.  , 0.9 , 0.97, 1.  , 0.97, 0.94, 0.97]),\n",
              "  'feature_idx': (0, 1, 2, 3, 4, 5, 6, 7, 8, 10, 14, 15, 18, 20),\n",
              "  'feature_names': ('0',\n",
              "   '1',\n",
              "   '2',\n",
              "   '3',\n",
              "   '4',\n",
              "   '5',\n",
              "   '6',\n",
              "   '7',\n",
              "   '8',\n",
              "   '10',\n",
              "   '14',\n",
              "   '15',\n",
              "   '18',\n",
              "   '20')},\n",
              " 15: {'avg_score': 0.955342741935484,\n",
              "  'cv_scores': array([0.97, 0.97, 0.91, 1.  , 0.9 , 0.97, 1.  , 0.94, 0.94, 0.97]),\n",
              "  'feature_idx': (0, 1, 2, 3, 4, 5, 6, 7, 8, 10, 14, 15, 18, 20, 21),\n",
              "  'feature_names': ('0',\n",
              "   '1',\n",
              "   '2',\n",
              "   '3',\n",
              "   '4',\n",
              "   '5',\n",
              "   '6',\n",
              "   '7',\n",
              "   '8',\n",
              "   '10',\n",
              "   '14',\n",
              "   '15',\n",
              "   '18',\n",
              "   '20',\n",
              "   '21')},\n",
              " 16: {'avg_score': 0.955342741935484,\n",
              "  'cv_scores': array([0.97, 0.97, 0.91, 1.  , 0.9 , 0.97, 1.  , 0.94, 0.94, 0.97]),\n",
              "  'feature_idx': (0, 1, 2, 3, 4, 5, 6, 7, 8, 10, 13, 14, 15, 18, 20, 21),\n",
              "  'feature_names': ('0',\n",
              "   '1',\n",
              "   '2',\n",
              "   '3',\n",
              "   '4',\n",
              "   '5',\n",
              "   '6',\n",
              "   '7',\n",
              "   '8',\n",
              "   '10',\n",
              "   '13',\n",
              "   '14',\n",
              "   '15',\n",
              "   '18',\n",
              "   '20',\n",
              "   '21')},\n",
              " 17: {'avg_score': 0.955342741935484,\n",
              "  'cv_scores': array([0.97, 0.97, 0.91, 1.  , 0.9 , 0.97, 1.  , 0.94, 0.94, 0.97]),\n",
              "  'feature_idx': (0, 1, 2, 3, 4, 5, 6, 7, 8, 9, 10, 13, 14, 15, 18, 20, 21),\n",
              "  'feature_names': ('0',\n",
              "   '1',\n",
              "   '2',\n",
              "   '3',\n",
              "   '4',\n",
              "   '5',\n",
              "   '6',\n",
              "   '7',\n",
              "   '8',\n",
              "   '9',\n",
              "   '10',\n",
              "   '13',\n",
              "   '14',\n",
              "   '15',\n",
              "   '18',\n",
              "   '20',\n",
              "   '21')},\n",
              " 18: {'avg_score': 0.955342741935484,\n",
              "  'cv_scores': array([0.94, 1.  , 0.91, 1.  , 0.9 , 0.97, 1.  , 0.94, 0.94, 0.97]),\n",
              "  'feature_idx': (0,\n",
              "   1,\n",
              "   2,\n",
              "   3,\n",
              "   4,\n",
              "   5,\n",
              "   6,\n",
              "   7,\n",
              "   8,\n",
              "   9,\n",
              "   10,\n",
              "   13,\n",
              "   14,\n",
              "   15,\n",
              "   17,\n",
              "   18,\n",
              "   20,\n",
              "   21),\n",
              "  'feature_names': ('0',\n",
              "   '1',\n",
              "   '2',\n",
              "   '3',\n",
              "   '4',\n",
              "   '5',\n",
              "   '6',\n",
              "   '7',\n",
              "   '8',\n",
              "   '9',\n",
              "   '10',\n",
              "   '13',\n",
              "   '14',\n",
              "   '15',\n",
              "   '17',\n",
              "   '18',\n",
              "   '20',\n",
              "   '21')},\n",
              " 19: {'avg_score': 0.9521169354838708,\n",
              "  'cv_scores': array([0.94, 1.  , 0.91, 1.  , 0.9 , 0.94, 1.  , 0.94, 0.94, 0.97]),\n",
              "  'feature_idx': (0,\n",
              "   1,\n",
              "   2,\n",
              "   3,\n",
              "   4,\n",
              "   5,\n",
              "   6,\n",
              "   7,\n",
              "   8,\n",
              "   9,\n",
              "   10,\n",
              "   12,\n",
              "   13,\n",
              "   14,\n",
              "   15,\n",
              "   17,\n",
              "   18,\n",
              "   20,\n",
              "   21),\n",
              "  'feature_names': ('0',\n",
              "   '1',\n",
              "   '2',\n",
              "   '3',\n",
              "   '4',\n",
              "   '5',\n",
              "   '6',\n",
              "   '7',\n",
              "   '8',\n",
              "   '9',\n",
              "   '10',\n",
              "   '12',\n",
              "   '13',\n",
              "   '14',\n",
              "   '15',\n",
              "   '17',\n",
              "   '18',\n",
              "   '20',\n",
              "   '21')},\n",
              " 20: {'avg_score': 0.9458669354838708,\n",
              "  'cv_scores': array([0.94, 0.97, 0.88, 1.  , 0.9 , 0.94, 1.  , 0.94, 0.94, 0.97]),\n",
              "  'feature_idx': (0,\n",
              "   1,\n",
              "   2,\n",
              "   3,\n",
              "   4,\n",
              "   5,\n",
              "   6,\n",
              "   7,\n",
              "   8,\n",
              "   9,\n",
              "   10,\n",
              "   12,\n",
              "   13,\n",
              "   14,\n",
              "   15,\n",
              "   16,\n",
              "   17,\n",
              "   18,\n",
              "   20,\n",
              "   21),\n",
              "  'feature_names': ('0',\n",
              "   '1',\n",
              "   '2',\n",
              "   '3',\n",
              "   '4',\n",
              "   '5',\n",
              "   '6',\n",
              "   '7',\n",
              "   '8',\n",
              "   '9',\n",
              "   '10',\n",
              "   '12',\n",
              "   '13',\n",
              "   '14',\n",
              "   '15',\n",
              "   '16',\n",
              "   '17',\n",
              "   '18',\n",
              "   '20',\n",
              "   '21')},\n",
              " 21: {'avg_score': 0.9427419354838709,\n",
              "  'cv_scores': array([0.94, 0.97, 0.88, 0.97, 0.9 , 0.94, 1.  , 0.94, 0.94, 0.97]),\n",
              "  'feature_idx': (0,\n",
              "   1,\n",
              "   2,\n",
              "   3,\n",
              "   4,\n",
              "   5,\n",
              "   6,\n",
              "   7,\n",
              "   8,\n",
              "   9,\n",
              "   10,\n",
              "   11,\n",
              "   12,\n",
              "   13,\n",
              "   14,\n",
              "   15,\n",
              "   16,\n",
              "   17,\n",
              "   18,\n",
              "   20,\n",
              "   21),\n",
              "  'feature_names': ('0',\n",
              "   '1',\n",
              "   '2',\n",
              "   '3',\n",
              "   '4',\n",
              "   '5',\n",
              "   '6',\n",
              "   '7',\n",
              "   '8',\n",
              "   '9',\n",
              "   '10',\n",
              "   '11',\n",
              "   '12',\n",
              "   '13',\n",
              "   '14',\n",
              "   '15',\n",
              "   '16',\n",
              "   '17',\n",
              "   '18',\n",
              "   '20',\n",
              "   '21')},\n",
              " 22: {'avg_score': 0.9427419354838709,\n",
              "  'cv_scores': array([0.94, 0.97, 0.88, 0.97, 0.9 , 0.94, 1.  , 0.94, 0.94, 0.97]),\n",
              "  'feature_idx': (0,\n",
              "   1,\n",
              "   2,\n",
              "   3,\n",
              "   4,\n",
              "   5,\n",
              "   6,\n",
              "   7,\n",
              "   8,\n",
              "   9,\n",
              "   10,\n",
              "   11,\n",
              "   12,\n",
              "   13,\n",
              "   14,\n",
              "   15,\n",
              "   16,\n",
              "   17,\n",
              "   18,\n",
              "   19,\n",
              "   20,\n",
              "   21),\n",
              "  'feature_names': ('0',\n",
              "   '1',\n",
              "   '2',\n",
              "   '3',\n",
              "   '4',\n",
              "   '5',\n",
              "   '6',\n",
              "   '7',\n",
              "   '8',\n",
              "   '9',\n",
              "   '10',\n",
              "   '11',\n",
              "   '12',\n",
              "   '13',\n",
              "   '14',\n",
              "   '15',\n",
              "   '16',\n",
              "   '17',\n",
              "   '18',\n",
              "   '19',\n",
              "   '20',\n",
              "   '21')}}"
            ]
          },
          "metadata": {
            "tags": []
          },
          "execution_count": 24
        }
      ]
    },
    {
      "cell_type": "markdown",
      "metadata": {
        "id": "Mq5Iqw0DsMMH"
      },
      "source": [
        "Print the column headings of the top five features identified by the forward sequential feature selector"
      ]
    },
    {
      "cell_type": "code",
      "metadata": {
        "colab": {
          "base_uri": "https://localhost:8080/"
        },
        "id": "7Bs7MQQGv-G2",
        "outputId": "9587a5d7-caad-4042-d5e1-6ead3a4d1576"
      },
      "source": [
        "print(\"This is the first row of x: 0.0 0.0 0.0 0.0 0.0 0.0 0.0 0.0 0.0 1.0 6.7 58.0 4.0 2.0 0.0 64.0 224.0 82.0 37.0 36.0 53.0 3.0\")"
      ],
      "execution_count": null,
      "outputs": [
        {
          "output_type": "stream",
          "text": [
            "This is the first row of x: 0.0 0.0 0.0 0.0 0.0 0.0 0.0 0.0 0.0 1.0 6.7 58.0 4.0 2.0 0.0 64.0 224.0 82.0 37.0 36.0 53.0 3.0\n"
          ],
          "name": "stdout"
        }
      ]
    },
    {
      "cell_type": "code",
      "metadata": {
        "colab": {
          "base_uri": "https://localhost:8080/"
        },
        "id": "YhN7ai6AsWgf",
        "outputId": "631c6b73-8d95-44ba-8d1b-07510c313a16"
      },
      "source": [
        "feature_idx = [0, 3, 8, 14, 20] # NB: From the forward sequential feature selector\n",
        "\n",
        "x_col = [\"country\", \"country\", \"country\", \"country\", \"country\", \"country\", \"country\", \n",
        "         \"country\", \"country\", 'ASL',\t'RA',\t'POV',\t'INS',\t'INTERTIT',\t'BCU',\t'CU',\t'MCU',\t'MS',\t'MLS',\t'LS',\t'VLS']\n",
        "[ x_col[i] for i in feature_idx ]\n",
        "\n",
        "# col_names = styleSilentShot[[0, 3, 8, 14, 20] + 1]\n",
        "# print(col_names)"
      ],
      "execution_count": null,
      "outputs": [
        {
          "output_type": "execute_result",
          "data": {
            "text/plain": [
              "['country', 'country', 'country', 'BCU', 'VLS']"
            ]
          },
          "metadata": {
            "tags": []
          },
          "execution_count": 26
        }
      ]
    },
    {
      "cell_type": "markdown",
      "metadata": {
        "id": "OCU_USR80J9k"
      },
      "source": [
        "Chech the correlation between these variables: If strong, check your model assumptions"
      ]
    },
    {
      "cell_type": "code",
      "metadata": {
        "colab": {
          "base_uri": "https://localhost:8080/",
          "height": 106
        },
        "id": "DL7cvJZR0NbV",
        "outputId": "b68babf5-ece1-44f7-f490-65b07bde9140"
      },
      "source": [
        "styleSilentShot[['BCU', 'VLS']].corr()"
      ],
      "execution_count": null,
      "outputs": [
        {
          "output_type": "execute_result",
          "data": {
            "text/html": [
              "<div>\n",
              "<style scoped>\n",
              "    .dataframe tbody tr th:only-of-type {\n",
              "        vertical-align: middle;\n",
              "    }\n",
              "\n",
              "    .dataframe tbody tr th {\n",
              "        vertical-align: top;\n",
              "    }\n",
              "\n",
              "    .dataframe thead th {\n",
              "        text-align: right;\n",
              "    }\n",
              "</style>\n",
              "<table border=\"1\" class=\"dataframe\">\n",
              "  <thead>\n",
              "    <tr style=\"text-align: right;\">\n",
              "      <th></th>\n",
              "      <th>BCU</th>\n",
              "      <th>VLS</th>\n",
              "    </tr>\n",
              "  </thead>\n",
              "  <tbody>\n",
              "    <tr>\n",
              "      <th>BCU</th>\n",
              "      <td>1.00000</td>\n",
              "      <td>-0.24584</td>\n",
              "    </tr>\n",
              "    <tr>\n",
              "      <th>VLS</th>\n",
              "      <td>-0.24584</td>\n",
              "      <td>1.00000</td>\n",
              "    </tr>\n",
              "  </tbody>\n",
              "</table>\n",
              "</div>"
            ],
            "text/plain": [
              "         BCU      VLS\n",
              "BCU  1.00000 -0.24584\n",
              "VLS -0.24584  1.00000"
            ]
          },
          "metadata": {
            "tags": []
          },
          "execution_count": 27
        }
      ]
    },
    {
      "cell_type": "markdown",
      "metadata": {
        "id": "myEbInkRJVSl"
      },
      "source": [
        "# kNN"
      ]
    },
    {
      "cell_type": "code",
      "metadata": {
        "colab": {
          "base_uri": "https://localhost:8080/"
        },
        "id": "F1Yoy4R6J0CU",
        "outputId": "6696b438-5c7a-47d8-f8b5-8febe1b0289f"
      },
      "source": [
        "from sklearn.neighbors import KNeighborsClassifier\n",
        "classifierKNN = KNeighborsClassifier(n_neighbors=5)\n",
        "classifierKNN.fit(x_train, y_train)"
      ],
      "execution_count": null,
      "outputs": [
        {
          "output_type": "execute_result",
          "data": {
            "text/plain": [
              "KNeighborsClassifier(algorithm='auto', leaf_size=30, metric='minkowski',\n",
              "                     metric_params=None, n_jobs=None, n_neighbors=5, p=2,\n",
              "                     weights='uniform')"
            ]
          },
          "metadata": {
            "tags": []
          },
          "execution_count": 28
        }
      ]
    },
    {
      "cell_type": "code",
      "metadata": {
        "id": "SPE-wVhNJ6YD"
      },
      "source": [
        "y_pred = classifierKNN.predict(x_test)\n",
        "np.set_printoptions(precision=2)"
      ],
      "execution_count": null,
      "outputs": []
    },
    {
      "cell_type": "code",
      "metadata": {
        "colab": {
          "base_uri": "https://localhost:8080/"
        },
        "id": "Dl8eU4qnJ8Yz",
        "outputId": "93d4ce3c-ce3a-4a80-cda0-16a68707dd89"
      },
      "source": [
        "from sklearn.metrics import confusion_matrix, accuracy_score, precision_score, recall_score\n",
        "cm = confusion_matrix(y_test, y_pred)\n",
        "cm = confusion_matrix(y_test, y_pred)\n",
        "print(cm)\n",
        "\n",
        "print(\"Accuracy:\",accuracy_score(y_test, y_pred))\n",
        "print(\"Precision:\",precision_score(y_test, y_pred))\n",
        "print(\"Recall:\",recall_score(y_test, y_pred))"
      ],
      "execution_count": null,
      "outputs": [
        {
          "output_type": "stream",
          "text": [
            "[[28  3]\n",
            " [ 2 46]]\n",
            "Accuracy: 0.9367088607594937\n",
            "Precision: 0.9387755102040817\n",
            "Recall: 0.9583333333333334\n"
          ],
          "name": "stdout"
        }
      ]
    },
    {
      "cell_type": "code",
      "metadata": {
        "colab": {
          "base_uri": "https://localhost:8080/"
        },
        "id": "CikYoA1as4V0",
        "outputId": "2663bcd1-0151-4ed1-bc3d-795850d919e2"
      },
      "source": [
        "from sklearn.model_selection import cross_val_score\n",
        "accuracies = cross_val_score(estimator = classifierKNN, X = x_train, y = y_train, cv = 10) # 10-fold cross validation = 10 different test sets\n",
        "print(\"kNN cross-validation\")\n",
        "print(\"Accuracy: {:.2f} %\".format(accuracies.mean()*100)) # Format: float with two decimals\n",
        "print(\"Standard deviation: {:.2f} %\".format(accuracies.std()*100))"
      ],
      "execution_count": null,
      "outputs": [
        {
          "output_type": "stream",
          "text": [
            "kNN cross-validation\n",
            "Accuracy: 90.46 %\n",
            "Standard deviation: 4.94 %\n"
          ],
          "name": "stdout"
        }
      ]
    },
    {
      "cell_type": "markdown",
      "metadata": {
        "id": "90d36xfSMPiC"
      },
      "source": [
        "# Linear SVM"
      ]
    },
    {
      "cell_type": "code",
      "metadata": {
        "colab": {
          "base_uri": "https://localhost:8080/"
        },
        "id": "nm09--sMMY6b",
        "outputId": "010fbd04-c17e-4bdb-cf6e-fa4248234717"
      },
      "source": [
        "from sklearn.svm import SVC\n",
        "classifierSVM = SVC(kernel='linear')\n",
        "classifierSVM.fit(x_train, y_train)"
      ],
      "execution_count": null,
      "outputs": [
        {
          "output_type": "execute_result",
          "data": {
            "text/plain": [
              "SVC(C=1.0, break_ties=False, cache_size=200, class_weight=None, coef0=0.0,\n",
              "    decision_function_shape='ovr', degree=3, gamma='scale', kernel='linear',\n",
              "    max_iter=-1, probability=False, random_state=None, shrinking=True,\n",
              "    tol=0.001, verbose=False)"
            ]
          },
          "metadata": {
            "tags": []
          },
          "execution_count": 32
        }
      ]
    },
    {
      "cell_type": "code",
      "metadata": {
        "id": "SX7b9UdfMY6f"
      },
      "source": [
        "y_pred = classifierSVM.predict(x_test)"
      ],
      "execution_count": null,
      "outputs": []
    },
    {
      "cell_type": "code",
      "metadata": {
        "colab": {
          "base_uri": "https://localhost:8080/"
        },
        "id": "D1vwIhGBMY6l",
        "outputId": "0c92c7f1-4eb3-443a-ea6b-2eb64fda93c7"
      },
      "source": [
        "from sklearn.metrics import confusion_matrix, accuracy_score, precision_score, recall_score\n",
        "cm = confusion_matrix(y_test, y_pred)\n",
        "print(cm)\n",
        "\n",
        "print(\"Accuracy:\",accuracy_score(y_test, y_pred))\n",
        "print(\"Precision:\",precision_score(y_test, y_pred))\n",
        "print(\"Recall:\",recall_score(y_test, y_pred))"
      ],
      "execution_count": null,
      "outputs": [
        {
          "output_type": "stream",
          "text": [
            "[[30  1]\n",
            " [ 1 47]]\n",
            "Accuracy: 0.9746835443037974\n",
            "Precision: 0.9791666666666666\n",
            "Recall: 0.9791666666666666\n"
          ],
          "name": "stdout"
        }
      ]
    },
    {
      "cell_type": "code",
      "metadata": {
        "colab": {
          "base_uri": "https://localhost:8080/"
        },
        "id": "2zf0CqI5s7oL",
        "outputId": "e87f01bd-c50d-4789-ecea-b74288c33409"
      },
      "source": [
        "from sklearn.model_selection import cross_val_score\n",
        "accuracies = cross_val_score(estimator = classifierSVM, X = x_train, y = y_train, cv = 10) # 10-fold cross validation = 10 different test sets\n",
        "print(\"Linear SVC cross-validation\")\n",
        "print(\"Accuracy: {:.2f} %\".format(accuracies.mean()*100)) # Format: float with two decimals\n",
        "print(\"Standard deviation: {:.2f} %\".format(accuracies.std()*100))"
      ],
      "execution_count": null,
      "outputs": [
        {
          "output_type": "stream",
          "text": [
            "Linear SVC cross-validation\n",
            "Accuracy: 95.24 %\n",
            "Standard deviation: 3.80 %\n"
          ],
          "name": "stdout"
        }
      ]
    },
    {
      "cell_type": "markdown",
      "metadata": {
        "id": "dqGOrYBIT58y"
      },
      "source": [
        "# Nonlinear SVM"
      ]
    },
    {
      "cell_type": "markdown",
      "metadata": {
        "id": "8xR7U6OOfbuS"
      },
      "source": [
        "## SVC"
      ]
    },
    {
      "cell_type": "code",
      "metadata": {
        "colab": {
          "base_uri": "https://localhost:8080/"
        },
        "id": "BtcCOrHgT9Fz",
        "outputId": "8fa0b3b1-42b9-4b56-f843-aa1f97cce4a2"
      },
      "source": [
        "from sklearn.svm import SVC\n",
        "classifierSVMrbf = SVC(kernel='rbf') # kernel{‘linear’, ‘poly’, ‘rbf’, ‘sigmoid’, ‘precomputed’}, default=’rbf’\n",
        "classifierSVMrbf.fit(x_train, y_train)"
      ],
      "execution_count": null,
      "outputs": [
        {
          "output_type": "execute_result",
          "data": {
            "text/plain": [
              "SVC(C=1.0, break_ties=False, cache_size=200, class_weight=None, coef0=0.0,\n",
              "    decision_function_shape='ovr', degree=3, gamma='scale', kernel='rbf',\n",
              "    max_iter=-1, probability=False, random_state=None, shrinking=True,\n",
              "    tol=0.001, verbose=False)"
            ]
          },
          "metadata": {
            "tags": []
          },
          "execution_count": 36
        }
      ]
    },
    {
      "cell_type": "code",
      "metadata": {
        "id": "IeOcllgqT9DM"
      },
      "source": [
        "y_pred = classifierSVMrbf.predict(x_test)"
      ],
      "execution_count": null,
      "outputs": []
    },
    {
      "cell_type": "code",
      "metadata": {
        "colab": {
          "base_uri": "https://localhost:8080/"
        },
        "id": "b_yf7j7ST9Ai",
        "outputId": "b5b64b23-b385-4bad-a857-ae2b19ab2c2b"
      },
      "source": [
        "from sklearn.metrics import confusion_matrix, accuracy_score, precision_score, recall_score\n",
        "cm = confusion_matrix(y_test, y_pred)\n",
        "print('SVC with kernel = rbf')\n",
        "print(cm)\n",
        "\n",
        "print(\"Accuracy:\",accuracy_score(y_test, y_pred))\n",
        "print(\"Precision:\",precision_score(y_test, y_pred))\n",
        "print(\"Recall:\",recall_score(y_test, y_pred))"
      ],
      "execution_count": null,
      "outputs": [
        {
          "output_type": "stream",
          "text": [
            "SVC with kernel = rbf\n",
            "[[29  2]\n",
            " [ 1 47]]\n",
            "Accuracy: 0.9620253164556962\n",
            "Precision: 0.9591836734693877\n",
            "Recall: 0.9791666666666666\n"
          ],
          "name": "stdout"
        }
      ]
    },
    {
      "cell_type": "code",
      "metadata": {
        "colab": {
          "base_uri": "https://localhost:8080/"
        },
        "id": "kECM3tgQs-jQ",
        "outputId": "6a85e67a-be1f-466b-8c68-2567f00abbb5"
      },
      "source": [
        "from sklearn.model_selection import cross_val_score\n",
        "accuracies = cross_val_score(estimator = classifierSVMrbf, X = x_train, y = y_train, cv = 10) # 10-fold cross validation = 10 different test sets\n",
        "print(\"SVC with kernel = rbf cross-validation\")\n",
        "print(\"Accuracy: {:.2f} %\".format(accuracies.mean()*100)) # Format: float with two decimals\n",
        "print(\"Standard deviation: {:.2f} %\".format(accuracies.std()*100))"
      ],
      "execution_count": null,
      "outputs": [
        {
          "output_type": "stream",
          "text": [
            "SVC with kernel = rbf cross-validation\n",
            "Accuracy: 94.26 %\n",
            "Standard deviation: 3.71 %\n"
          ],
          "name": "stdout"
        }
      ]
    },
    {
      "cell_type": "markdown",
      "metadata": {
        "id": "iuVrQQ3vy6Kz"
      },
      "source": [
        "### Grid search hyper-parameter optimisation"
      ]
    },
    {
      "cell_type": "code",
      "metadata": {
        "colab": {
          "base_uri": "https://localhost:8080/"
        },
        "id": "SmELfg5Gzck5",
        "outputId": "72cd3a4c-cf9a-4e38-e7be-abfc397cbf37"
      },
      "source": [
        "from sklearn.model_selection import GridSearchCV\n",
        "parameters = [{'C': [0.25, 0.5, 0.75, 1], 'kernel': ['linear']}, # 'Parameter' and then the [test values] (0.25 = strong regularization = less overfitting)\n",
        "              {'C': [0.25, 0.5, 0.75, 1], 'kernel': ['poly', 'rbf', 'sigmoid'], 'gamma': [0.1, 0.2, 0.3, 0.4, 0.5, 0.6, 0.7, 0.8, 0.9]}]\n",
        "              # gamma can only be tuned in rbf, poly and sigmoid, so that's why there are two {dictionaries}\n",
        "grid_search = GridSearchCV(estimator = classifierSVMrbf,\n",
        "                           param_grid = parameters,\n",
        "                           scoring = 'accuracy',\n",
        "                           cv = 10, # 10-fold cross validation\n",
        "                           n_jobs = -1) # if you are running the code on your machine, this will allocate all the processors to running the code\n",
        "grid_search.fit(x_train, y_train)\n",
        "best_accuracy = grid_search.best_score_\n",
        "best_parameters = grid_search.best_params_\n",
        "\n",
        "print(\"SVC with grid search cross-validation\")\n",
        "print(\"Best accuracy: {:.2f} %\".format(best_accuracy*100)) # Format: float with two decimals\n",
        "print(\"Best parameters:\", best_parameters)"
      ],
      "execution_count": null,
      "outputs": [
        {
          "output_type": "stream",
          "text": [
            "SVC with grid search cross-validation\n",
            "Best accuracy: 97.77 %\n",
            "Best parameters: {'C': 0.25, 'gamma': 0.1, 'kernel': 'poly'}\n"
          ],
          "name": "stdout"
        }
      ]
    },
    {
      "cell_type": "markdown",
      "metadata": {
        "id": "LgLxKofPfY4K"
      },
      "source": [
        "## NuSVC"
      ]
    },
    {
      "cell_type": "code",
      "metadata": {
        "colab": {
          "base_uri": "https://localhost:8080/"
        },
        "id": "TECh8I1Aevpa",
        "outputId": "a64da4df-0c98-4360-ae10-b649fe166247"
      },
      "source": [
        "from sklearn.svm import NuSVC\n",
        "classifierNuSVMrbf = NuSVC(kernel='poly') # kernel{‘linear’, ‘poly’, ‘rbf’, ‘sigmoid’, ‘precomputed’}, default=’rbf’\n",
        "classifierNuSVMrbf.fit(x_train, y_train)"
      ],
      "execution_count": null,
      "outputs": [
        {
          "output_type": "execute_result",
          "data": {
            "text/plain": [
              "NuSVC(break_ties=False, cache_size=200, class_weight=None, coef0=0.0,\n",
              "      decision_function_shape='ovr', degree=3, gamma='scale', kernel='poly',\n",
              "      max_iter=-1, nu=0.5, probability=False, random_state=None, shrinking=True,\n",
              "      tol=0.001, verbose=False)"
            ]
          },
          "metadata": {
            "tags": []
          },
          "execution_count": 41
        }
      ]
    },
    {
      "cell_type": "code",
      "metadata": {
        "id": "myPGJ3wOeweK"
      },
      "source": [
        "y_pred = classifierNuSVMrbf.predict(x_test)"
      ],
      "execution_count": null,
      "outputs": []
    },
    {
      "cell_type": "code",
      "metadata": {
        "colab": {
          "base_uri": "https://localhost:8080/"
        },
        "id": "A3GwrjFfex4C",
        "outputId": "4cbf9cb1-4130-4dc3-9c2d-e9e87aebd462"
      },
      "source": [
        "from sklearn.metrics import confusion_matrix, accuracy_score, precision_score, recall_score\n",
        "cm = confusion_matrix(y_test, y_pred)\n",
        "print('NuSVC with kernel = rbf')\n",
        "print(cm)\n",
        "\n",
        "print(\"Accuracy:\",accuracy_score(y_test, y_pred))\n",
        "print(\"Precision:\",precision_score(y_test, y_pred))\n",
        "print(\"Recall:\",recall_score(y_test, y_pred))"
      ],
      "execution_count": null,
      "outputs": [
        {
          "output_type": "stream",
          "text": [
            "NuSVC with kernel = rbf\n",
            "[[23  8]\n",
            " [ 1 47]]\n",
            "Accuracy: 0.8860759493670886\n",
            "Precision: 0.8545454545454545\n",
            "Recall: 0.9791666666666666\n"
          ],
          "name": "stdout"
        }
      ]
    },
    {
      "cell_type": "code",
      "metadata": {
        "colab": {
          "base_uri": "https://localhost:8080/"
        },
        "id": "1nX_I3MVtAly",
        "outputId": "13d3df7b-0642-4b28-f8a0-8487ad54e882"
      },
      "source": [
        "from sklearn.model_selection import cross_val_score\n",
        "accuracies = cross_val_score(estimator = classifierNuSVMrbf, X = x_train, y = y_train, cv = 10) # 10-fold cross validation = 10 different test sets\n",
        "print(\"NuSVC with kernel = rbf cross-validation\")\n",
        "print(\"Accuracy: {:.2f} %\".format(accuracies.mean()*100)) # Format: float with two decimals\n",
        "print(\"Standard deviation: {:.2f} %\".format(accuracies.std()*100))"
      ],
      "execution_count": null,
      "outputs": [
        {
          "output_type": "stream",
          "text": [
            "NuSVC with kernel = rbf cross-validation\n",
            "Accuracy: 85.07 %\n",
            "Standard deviation: 4.37 %\n"
          ],
          "name": "stdout"
        }
      ]
    },
    {
      "cell_type": "markdown",
      "metadata": {
        "id": "8D1xw3vUgyFQ"
      },
      "source": [
        "# Naive Bayes"
      ]
    },
    {
      "cell_type": "markdown",
      "metadata": {
        "id": "j44jl8jZhPch"
      },
      "source": [
        "The sklearn.naive_bayes module implements Naive Bayes algorithms. These are supervised learning methods based on applying Bayes’ theorem with strong (naive) feature independence assumptions."
      ]
    },
    {
      "cell_type": "markdown",
      "metadata": {
        "id": "JW8X_2Zuu2Zw"
      },
      "source": [
        "## Gaussian "
      ]
    },
    {
      "cell_type": "code",
      "metadata": {
        "colab": {
          "base_uri": "https://localhost:8080/"
        },
        "id": "F_S6UKcXu85U",
        "outputId": "aca46b60-ba86-4f4a-f7c4-0acc8f853309"
      },
      "source": [
        "from sklearn.naive_bayes import GaussianNB\n",
        "classifierGNB = GaussianNB() \n",
        "classifierGNB.fit(x_train, y_train)"
      ],
      "execution_count": null,
      "outputs": [
        {
          "output_type": "execute_result",
          "data": {
            "text/plain": [
              "GaussianNB(priors=None, var_smoothing=1e-09)"
            ]
          },
          "metadata": {
            "tags": []
          },
          "execution_count": 45
        }
      ]
    },
    {
      "cell_type": "code",
      "metadata": {
        "id": "Z38nWKjBu82i"
      },
      "source": [
        "y_pred = classifierGNB.predict(x_test)"
      ],
      "execution_count": null,
      "outputs": []
    },
    {
      "cell_type": "code",
      "metadata": {
        "colab": {
          "base_uri": "https://localhost:8080/"
        },
        "id": "VPjpgARZu8z0",
        "outputId": "24ffa65c-e167-4b69-83b2-4669952a88e1"
      },
      "source": [
        "from sklearn.metrics import confusion_matrix, accuracy_score, precision_score, recall_score\n",
        "cm = confusion_matrix(y_test, y_pred)\n",
        "print('Gaussian NB')\n",
        "print(cm)\n",
        "\n",
        "print(\"Accuracy:\",accuracy_score(y_test, y_pred))\n",
        "print(\"Precision:\",precision_score(y_test, y_pred))\n",
        "print(\"Recall:\",recall_score(y_test, y_pred))"
      ],
      "execution_count": null,
      "outputs": [
        {
          "output_type": "stream",
          "text": [
            "Gaussian NB\n",
            "[[30  1]\n",
            " [ 6 42]]\n",
            "Accuracy: 0.9113924050632911\n",
            "Precision: 0.9767441860465116\n",
            "Recall: 0.875\n"
          ],
          "name": "stdout"
        }
      ]
    },
    {
      "cell_type": "code",
      "metadata": {
        "colab": {
          "base_uri": "https://localhost:8080/"
        },
        "id": "swIaszz_tCHp",
        "outputId": "55513a9a-b60f-42ea-9b90-293d481bfdbd"
      },
      "source": [
        "from sklearn.model_selection import cross_val_score\n",
        "accuracies = cross_val_score(estimator = classifierGNB, X = x_train, y = y_train, cv = 10) # 10-fold cross validation = 10 different test sets\n",
        "print(\"Gaussian Naive Bayes cross-validation\")\n",
        "print(\"Accuracy: {:.2f} %\".format(accuracies.mean()*100)) # Format: float with two decimals\n",
        "print(\"Standard deviation: {:.2f} %\".format(accuracies.std()*100))"
      ],
      "execution_count": null,
      "outputs": [
        {
          "output_type": "stream",
          "text": [
            "Gaussian Naive Bayes cross-validation\n",
            "Accuracy: 87.55 %\n",
            "Standard deviation: 8.74 %\n"
          ],
          "name": "stdout"
        }
      ]
    },
    {
      "cell_type": "markdown",
      "metadata": {
        "id": "QI3xqRctymyl"
      },
      "source": [
        "# Decision trees"
      ]
    },
    {
      "cell_type": "code",
      "metadata": {
        "colab": {
          "base_uri": "https://localhost:8080/"
        },
        "id": "RRZMgc8-yvzV",
        "outputId": "cc1e4cae-4f9f-406b-d1c8-50dcb84fa770"
      },
      "source": [
        "from sklearn.tree import DecisionTreeClassifier\n",
        "classifierTree = DecisionTreeClassifier(criterion='entropy') # Default is gini\n",
        "classifierTree.fit(x_train, y_train)\n",
        "\n",
        "y_pred = classifierTree.predict(x_test)\n",
        "\n",
        "from sklearn.metrics import confusion_matrix, accuracy_score, precision_score, recall_score\n",
        "cm = confusion_matrix(y_test, y_pred)\n",
        "print('Decision trees')\n",
        "print(cm)\n",
        "\n",
        "print(\"Accuracy:\",accuracy_score(y_test, y_pred))\n",
        "print(\"Precision:\",precision_score(y_test, y_pred))\n",
        "print(\"Recall:\",recall_score(y_test, y_pred))"
      ],
      "execution_count": null,
      "outputs": [
        {
          "output_type": "stream",
          "text": [
            "Decision trees\n",
            "[[28  3]\n",
            " [ 2 46]]\n",
            "Accuracy: 0.9367088607594937\n",
            "Precision: 0.9387755102040817\n",
            "Recall: 0.9583333333333334\n"
          ],
          "name": "stdout"
        }
      ]
    },
    {
      "cell_type": "code",
      "metadata": {
        "colab": {
          "base_uri": "https://localhost:8080/"
        },
        "id": "excn1ZoZtJSl",
        "outputId": "fcddd107-b1ab-4aaf-efb9-4fcedd1a0466"
      },
      "source": [
        "from sklearn.model_selection import cross_val_score\n",
        "accuracies = cross_val_score(estimator = classifierTree, X = x_train, y = y_train, cv = 10) # 10-fold cross validation = 10 different test sets\n",
        "print(\"Decision tree cross-validation\")\n",
        "print(\"Accuracy: {:.2f} %\".format(accuracies.mean()*100)) # Format: float with two decimals\n",
        "print(\"Standard deviation: {:.2f} %\".format(accuracies.std()*100))"
      ],
      "execution_count": null,
      "outputs": [
        {
          "output_type": "stream",
          "text": [
            "Decision tree cross-validation\n",
            "Accuracy: 94.61 %\n",
            "Standard deviation: 3.73 %\n"
          ],
          "name": "stdout"
        }
      ]
    },
    {
      "cell_type": "markdown",
      "metadata": {
        "id": "4qoGp6_C3-sw"
      },
      "source": [
        "## Understanding the tree structure from scikit-learn"
      ]
    },
    {
      "cell_type": "markdown",
      "metadata": {
        "id": "XccKVqxb4TYK"
      },
      "source": [
        "This is human-readable, but only interpretable if the variables aren't scaled"
      ]
    },
    {
      "cell_type": "code",
      "metadata": {
        "id": "xf6h0FDj367C",
        "colab": {
          "base_uri": "https://localhost:8080/"
        },
        "outputId": "b2822db0-144c-4d41-d431-60f58c928a6e"
      },
      "source": [
        "n_nodes = classifierTree.tree_.node_count\n",
        "children_left = classifierTree.tree_.children_left\n",
        "children_right = classifierTree.tree_.children_right\n",
        "feature = classifierTree.tree_.feature\n",
        "threshold = classifierTree.tree_.threshold\n",
        "\n",
        "node_depth = np.zeros(shape=n_nodes, dtype=np.int64)\n",
        "is_leaves = np.zeros(shape=n_nodes, dtype=bool)\n",
        "stack = [(0, 0)]  # start with the root node id (0) and its depth (0)\n",
        "while len(stack) > 0:\n",
        "    # `pop` ensures each node is only visited once\n",
        "    node_id, depth = stack.pop()\n",
        "    node_depth[node_id] = depth\n",
        "\n",
        "    # If the left and right child of a node is not the same we have a split\n",
        "    # node\n",
        "    is_split_node = children_left[node_id] != children_right[node_id]\n",
        "    # If a split node, append left and right children and depth to `stack`\n",
        "    # so we can loop through them\n",
        "    if is_split_node:\n",
        "        stack.append((children_left[node_id], depth + 1))\n",
        "        stack.append((children_right[node_id], depth + 1))\n",
        "    else:\n",
        "        is_leaves[node_id] = True\n",
        "\n",
        "print(\"The binary tree structure has {n} nodes and has \"\n",
        "      \"the following tree structure:\\n\".format(n=n_nodes))\n",
        "for i in range(n_nodes):\n",
        "    if is_leaves[i]:\n",
        "        print(\"{space}node={node} is a leaf node.\".format(\n",
        "            space=node_depth[i] * \"\\t\", node=i))\n",
        "    else:\n",
        "        print(\"{space}node={node} is a split node: \"\n",
        "              \"go to node {left} if X[:, {feature}] <= {threshold} \"\n",
        "              \"else to node {right}.\".format(\n",
        "                  space=node_depth[i] * \"\\t\",\n",
        "                  node=i,\n",
        "                  left=children_left[i],\n",
        "                  feature=feature[i],\n",
        "                  threshold=threshold[i],\n",
        "                  right=children_right[i]))"
      ],
      "execution_count": null,
      "outputs": [
        {
          "output_type": "stream",
          "text": [
            "The binary tree structure has 23 nodes and has the following tree structure:\n",
            "\n",
            "node=0 is a split node: go to node 1 if X[:, 14] <= -0.3110562860965729 else to node 10.\n",
            "\tnode=1 is a split node: go to node 2 if X[:, 20] <= 2.4998127818107605 else to node 9.\n",
            "\t\tnode=2 is a split node: go to node 3 if X[:, 17] <= -0.6208588778972626 else to node 8.\n",
            "\t\t\tnode=3 is a split node: go to node 4 if X[:, 15] <= 0.684181347489357 else to node 5.\n",
            "\t\t\t\tnode=4 is a leaf node.\n",
            "\t\t\t\tnode=5 is a split node: go to node 6 if X[:, 11] <= -0.19767817668616772 else to node 7.\n",
            "\t\t\t\t\tnode=6 is a leaf node.\n",
            "\t\t\t\t\tnode=7 is a leaf node.\n",
            "\t\t\tnode=8 is a leaf node.\n",
            "\t\tnode=9 is a leaf node.\n",
            "\tnode=10 is a split node: go to node 11 if X[:, 10] <= 6.650000095367432 else to node 22.\n",
            "\t\tnode=11 is a split node: go to node 12 if X[:, 10] <= 1.5 else to node 13.\n",
            "\t\t\tnode=12 is a leaf node.\n",
            "\t\t\tnode=13 is a split node: go to node 14 if X[:, 12] <= 0.1018252931535244 else to node 15.\n",
            "\t\t\t\tnode=14 is a leaf node.\n",
            "\t\t\t\tnode=15 is a split node: go to node 16 if X[:, 10] <= 6.450000047683716 else to node 21.\n",
            "\t\t\t\t\tnode=16 is a split node: go to node 17 if X[:, 12] <= 0.31545430421829224 else to node 20.\n",
            "\t\t\t\t\t\tnode=17 is a split node: go to node 18 if X[:, 13] <= 0.33911801874637604 else to node 19.\n",
            "\t\t\t\t\t\t\tnode=18 is a leaf node.\n",
            "\t\t\t\t\t\t\tnode=19 is a leaf node.\n",
            "\t\t\t\t\t\tnode=20 is a leaf node.\n",
            "\t\t\t\t\tnode=21 is a leaf node.\n",
            "\t\tnode=22 is a leaf node.\n"
          ],
          "name": "stdout"
        }
      ]
    },
    {
      "cell_type": "markdown",
      "metadata": {
        "id": "3sy8tOMT4cN5"
      },
      "source": [
        "## Plotting the tree"
      ]
    },
    {
      "cell_type": "code",
      "metadata": {
        "colab": {
          "base_uri": "https://localhost:8080/",
          "height": 248
        },
        "id": "5BBz6wBK2lG6",
        "outputId": "c90018d9-3f85-4b76-d526-be715d767ffe"
      },
      "source": [
        "from sklearn.tree import plot_tree\n",
        "plot_tree(classifierTree)\n",
        "\n",
        "plt.rcParams['figure.figsize'] = [24, 16]\n",
        "plt.rcParams['figure.dpi'] = 200 # 200 e.g. is really fine, but slower\n",
        "# Alt for the whole notebook: fig=plt.figure(figsize=(12,8), dpi= 100, facecolor='w', edgecolor='k')\n",
        "\n",
        "plt.show()\n",
        "\n"
      ],
      "execution_count": null,
      "outputs": [
        {
          "output_type": "display_data",
          "data": {
            "image/png": "[encoded data removed]",
            "text/plain": [
              "<Figure size 432x288 with 1 Axes>"
            ]
          },
          "metadata": {
            "tags": [],
            "needs_background": "light"
          }
        }
      ]
    },
    {
      "cell_type": "markdown",
      "metadata": {
        "id": "gIeGz5DT4zAD"
      },
      "source": [
        "# Random forests"
      ]
    },
    {
      "cell_type": "code",
      "metadata": {
        "colab": {
          "base_uri": "https://localhost:8080/"
        },
        "id": "euL0H8zD8dno",
        "outputId": "ff884f2e-0146-4436-9558-e879fc2f33f7"
      },
      "source": [
        "from sklearn.ensemble import RandomForestClassifier\n",
        "classifierForest = DecisionTreeClassifier(criterion='entropy') # Default is gini\n",
        "classifierForest.fit(x_train, y_train)\n",
        "\n",
        "y_pred = classifierForest.predict(x_test)\n",
        "\n",
        "from sklearn.metrics import confusion_matrix, accuracy_score, precision_score, recall_score\n",
        "cm = confusion_matrix(y_test, y_pred)\n",
        "print('Random Forest')\n",
        "print(cm)\n",
        "\n",
        "print(\"Accuracy:\",accuracy_score(y_test, y_pred))\n",
        "print(\"Precision:\",precision_score(y_test, y_pred))\n",
        "print(\"Recall:\",recall_score(y_test, y_pred))"
      ],
      "execution_count": null,
      "outputs": [
        {
          "output_type": "stream",
          "text": [
            "Random Forest\n",
            "[[28  3]\n",
            " [ 3 45]]\n",
            "Accuracy: 0.9240506329113924\n",
            "Precision: 0.9375\n",
            "Recall: 0.9375\n"
          ],
          "name": "stdout"
        }
      ]
    },
    {
      "cell_type": "code",
      "metadata": {
        "colab": {
          "base_uri": "https://localhost:8080/"
        },
        "id": "VunQYHIZxa2j",
        "outputId": "85693180-8650-455a-b6e5-549aeb143bed"
      },
      "source": [
        "from sklearn.model_selection import cross_val_score\n",
        "accuracies = cross_val_score(estimator = classifierForest, X = x_train, y = y_train, cv = 10) # 10-fold cross validation = 10 different test sets\n",
        "print(\"Random Forest cross-validation\")\n",
        "print(\"Accuracy: {:.2f} %\".format(accuracies.mean()*100)) # Format: float with two decimals\n",
        "print(\"Standard deviation: {:.2f} %\".format(accuracies.std()*100))"
      ],
      "execution_count": null,
      "outputs": [
        {
          "output_type": "stream",
          "text": [
            "Random Forest cross-validation\n",
            "Accuracy: 94.28 %\n",
            "Standard deviation: 3.09 %\n"
          ],
          "name": "stdout"
        }
      ]
    },
    {
      "cell_type": "markdown",
      "metadata": {
        "id": "8SKHJvuZ5_Gb"
      },
      "source": [
        "# XGBoost"
      ]
    },
    {
      "cell_type": "code",
      "metadata": {
        "colab": {
          "base_uri": "https://localhost:8080/"
        },
        "id": "ngDa8TV06CO0",
        "outputId": "03683678-a017-4c54-b9b1-70541b0a17b0"
      },
      "source": [
        "from xgboost import XGBClassifier  # NB: xgboost library is already installed on Google Colab, will need to install it manually when working elsewhere\n",
        "classifierXGB = XGBClassifier() # \"ML A-Z lecture: Most of the time the default hyper parameters perform very well\"\n",
        "classifierXGB.fit(x_train, y_train)\n",
        "\n",
        "y_pred = classifierForest.predict(x_test)\n",
        "\n",
        "from sklearn.metrics import confusion_matrix, accuracy_score, precision_score, recall_score\n",
        "cm = confusion_matrix(y_test, y_pred)\n",
        "print('XGBoost')\n",
        "print(cm)\n",
        "\n",
        "print(\"Accuracy:\",accuracy_score(y_test, y_pred))\n",
        "print(\"Precision:\",precision_score(y_test, y_pred))\n",
        "print(\"Recall:\",recall_score(y_test, y_pred))"
      ],
      "execution_count": null,
      "outputs": [
        {
          "output_type": "stream",
          "text": [
            "XGBoost\n",
            "[[28  3]\n",
            " [ 3 45]]\n",
            "Accuracy: 0.9240506329113924\n",
            "Precision: 0.9375\n",
            "Recall: 0.9375\n"
          ],
          "name": "stdout"
        }
      ]
    },
    {
      "cell_type": "code",
      "metadata": {
        "colab": {
          "base_uri": "https://localhost:8080/"
        },
        "id": "2GQsVVGB7GJI",
        "outputId": "361e8ed5-4820-449d-ab92-5b68a27640b0"
      },
      "source": [
        "from sklearn.model_selection import cross_val_score\n",
        "accuracies = cross_val_score(estimator = classifierXGB, X = x_train, y = y_train, cv = 10) # 10-fold cross validation = 10 different test sets\n",
        "print(\"XGBoost cross-validation\")\n",
        "print(\"Accuracy: {:.2f} %\".format(accuracies.mean()*100)) # Format: float with two decimals\n",
        "print(\"Standard deviation: {:.2f} %\".format(accuracies.std()*100))"
      ],
      "execution_count": null,
      "outputs": [
        {
          "output_type": "stream",
          "text": [
            "XGBoost cross-validation\n",
            "Accuracy: 95.53 %\n",
            "Standard deviation: 3.54 %\n"
          ],
          "name": "stdout"
        }
      ]
    }
  ]
}