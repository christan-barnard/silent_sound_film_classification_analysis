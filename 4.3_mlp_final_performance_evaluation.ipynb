{
  "nbformat": 4,
  "nbformat_minor": 0,
  "metadata": {
    "colab": {
      "name": "Final Keras Tuner ANN Tuner Silent-Sound Shot Scale Analysis.ipynb",
      "provenance": [],
      "collapsed_sections": [],
      "toc_visible": true
    },
    "kernelspec": {
      "display_name": "Python 3",
      "name": "python3"
    }
  },
  "cells": [
    {
      "cell_type": "markdown",
      "metadata": {
        "id": "lP6JLo1tGNBg"
      },
      "source": [
        "# Artificial Neural Network"
      ]
    },
    {
      "cell_type": "markdown",
      "metadata": {
        "id": "gWZyYmS_UE_L"
      },
      "source": [
        "### Importing the libraries"
      ]
    },
    {
      "cell_type": "code",
      "metadata": {
        "id": "MxkJoQBkUIHC"
      },
      "source": [
        "import numpy as np\n",
        "import matplotlib.pyplot as plt\n",
        "import pandas as pd\n",
        "import tensorflow as tf\n",
        "from tensorflow import keras"
      ],
      "execution_count": null,
      "outputs": []
    },
    {
      "cell_type": "code",
      "metadata": {
        "id": "ch2n4jU-9n_c"
      },
      "source": [
        "pip install -q -U keras-tuner"
      ],
      "execution_count": null,
      "outputs": []
    },
    {
      "cell_type": "code",
      "metadata": {
        "id": "dZkePqmw9se8"
      },
      "source": [
        "import kerastuner as kt"
      ],
      "execution_count": null,
      "outputs": []
    },
    {
      "cell_type": "code",
      "metadata": {
        "colab": {
          "base_uri": "https://localhost:8080/",
          "height": 35
        },
        "id": "ZaTwK7ojXr2F",
        "outputId": "0991e1fb-e3df-4c93-f541-223fe417a9fc"
      },
      "source": [
        "tf.__version__"
      ],
      "execution_count": null,
      "outputs": [
        {
          "output_type": "execute_result",
          "data": {
            "application/vnd.google.colaboratory.intrinsic+json": {
              "type": "string"
            },
            "text/plain": [
              "'2.4.1'"
            ]
          },
          "metadata": {
            "tags": []
          },
          "execution_count": 19
        }
      ]
    },
    {
      "cell_type": "markdown",
      "metadata": {
        "id": "1E0Q3aoKUCRX"
      },
      "source": [
        "# Data Preprocessing"
      ]
    },
    {
      "cell_type": "markdown",
      "metadata": {
        "id": "cKWAkFVGUU0Z"
      },
      "source": [
        "### Importing the dataset"
      ]
    },
    {
      "cell_type": "code",
      "metadata": {
        "colab": {
          "base_uri": "https://localhost:8080/",
          "height": 195
        },
        "id": "MXUkhkMfU4wq",
        "outputId": "e46bd8d2-6257-4fd0-dd30-6e3c0bc7c929"
      },
      "source": [
        "styleSilentShot = pd.read_excel('1.2 SilentSoundScale_asl_count30+.xlsx')\n",
        "X = styleSilentShot.iloc[: , 1:-1].values # These are the predictor, independent variables (the 1:-1 excludes the first and last columns)\n",
        "y = styleSilentShot.iloc[: , -1].values # These are the target variables (or classes, in this case)\n",
        "styleSilentShot.head()"
      ],
      "execution_count": null,
      "outputs": [
        {
          "output_type": "execute_result",
          "data": {
            "text/html": [
              "<div>\n",
              "<style scoped>\n",
              "    .dataframe tbody tr th:only-of-type {\n",
              "        vertical-align: middle;\n",
              "    }\n",
              "\n",
              "    .dataframe tbody tr th {\n",
              "        vertical-align: top;\n",
              "    }\n",
              "\n",
              "    .dataframe thead th {\n",
              "        text-align: right;\n",
              "    }\n",
              "</style>\n",
              "<table border=\"1\" class=\"dataframe\">\n",
              "  <thead>\n",
              "    <tr style=\"text-align: right;\">\n",
              "      <th></th>\n",
              "      <th>Title</th>\n",
              "      <th>COUNTRY</th>\n",
              "      <th>ASL</th>\n",
              "      <th>RA</th>\n",
              "      <th>POV</th>\n",
              "      <th>INS</th>\n",
              "      <th>BCU</th>\n",
              "      <th>CU</th>\n",
              "      <th>MCU</th>\n",
              "      <th>MS</th>\n",
              "      <th>MLS</th>\n",
              "      <th>LS</th>\n",
              "      <th>VLS</th>\n",
              "      <th>Sound</th>\n",
              "    </tr>\n",
              "  </thead>\n",
              "  <tbody>\n",
              "    <tr>\n",
              "      <th>0</th>\n",
              "      <td>10 Things I Hate About You</td>\n",
              "      <td>USA</td>\n",
              "      <td>6.7</td>\n",
              "      <td>58</td>\n",
              "      <td>4.0</td>\n",
              "      <td>2.0</td>\n",
              "      <td>64</td>\n",
              "      <td>224</td>\n",
              "      <td>82</td>\n",
              "      <td>37</td>\n",
              "      <td>36</td>\n",
              "      <td>53</td>\n",
              "      <td>3</td>\n",
              "      <td>1</td>\n",
              "    </tr>\n",
              "    <tr>\n",
              "      <th>1</th>\n",
              "      <td>Adventures of Robin Hood, The</td>\n",
              "      <td>USA</td>\n",
              "      <td>5.0</td>\n",
              "      <td>0</td>\n",
              "      <td>0.0</td>\n",
              "      <td>0.0</td>\n",
              "      <td>3</td>\n",
              "      <td>53</td>\n",
              "      <td>71</td>\n",
              "      <td>77</td>\n",
              "      <td>109</td>\n",
              "      <td>111</td>\n",
              "      <td>76</td>\n",
              "      <td>1</td>\n",
              "    </tr>\n",
              "    <tr>\n",
              "      <th>2</th>\n",
              "      <td>Affairs of Anatole, The</td>\n",
              "      <td>USA</td>\n",
              "      <td>8.0</td>\n",
              "      <td>23</td>\n",
              "      <td>16.0</td>\n",
              "      <td>9.0</td>\n",
              "      <td>33</td>\n",
              "      <td>26</td>\n",
              "      <td>89</td>\n",
              "      <td>141</td>\n",
              "      <td>136</td>\n",
              "      <td>70</td>\n",
              "      <td>5</td>\n",
              "      <td>0</td>\n",
              "    </tr>\n",
              "    <tr>\n",
              "      <th>3</th>\n",
              "      <td>Alley Cat</td>\n",
              "      <td>BRI</td>\n",
              "      <td>6.0</td>\n",
              "      <td>10</td>\n",
              "      <td>0.0</td>\n",
              "      <td>0.0</td>\n",
              "      <td>17</td>\n",
              "      <td>68</td>\n",
              "      <td>84</td>\n",
              "      <td>82</td>\n",
              "      <td>101</td>\n",
              "      <td>142</td>\n",
              "      <td>5</td>\n",
              "      <td>0</td>\n",
              "    </tr>\n",
              "    <tr>\n",
              "      <th>4</th>\n",
              "      <td>Almost Perfect Affair, An</td>\n",
              "      <td>USA</td>\n",
              "      <td>4.2</td>\n",
              "      <td>64</td>\n",
              "      <td>12.0</td>\n",
              "      <td>7.0</td>\n",
              "      <td>70</td>\n",
              "      <td>199</td>\n",
              "      <td>93</td>\n",
              "      <td>51</td>\n",
              "      <td>26</td>\n",
              "      <td>51</td>\n",
              "      <td>9</td>\n",
              "      <td>1</td>\n",
              "    </tr>\n",
              "  </tbody>\n",
              "</table>\n",
              "</div>"
            ],
            "text/plain": [
              "                           Title COUNTRY  ASL  RA  ...  MLS   LS  VLS  Sound\n",
              "0     10 Things I Hate About You     USA  6.7  58  ...   36   53    3      1\n",
              "1  Adventures of Robin Hood, The     USA  5.0   0  ...  109  111   76      1\n",
              "2        Affairs of Anatole, The     USA  8.0  23  ...  136   70    5      0\n",
              "3                      Alley Cat     BRI  6.0  10  ...  101  142    5      0\n",
              "4      Almost Perfect Affair, An     USA  4.2  64  ...   26   51    9      1\n",
              "\n",
              "[5 rows x 14 columns]"
            ]
          },
          "metadata": {
            "tags": []
          },
          "execution_count": 20
        }
      ]
    },
    {
      "cell_type": "code",
      "metadata": {
        "id": "VYP9cQTWbzuI"
      },
      "source": [
        "# print(X)"
      ],
      "execution_count": null,
      "outputs": []
    },
    {
      "cell_type": "code",
      "metadata": {
        "id": "38vKGE6Nb2RR"
      },
      "source": [
        "# print(y)"
      ],
      "execution_count": null,
      "outputs": []
    },
    {
      "cell_type": "markdown",
      "metadata": {
        "id": "N6bQ0UgSU-NJ"
      },
      "source": [
        "### Encoding categorical data"
      ]
    },
    {
      "cell_type": "markdown",
      "metadata": {
        "id": "CUxGZezpbMcb"
      },
      "source": [
        "One Hot Encoding the \"COUNTRY\" column"
      ]
    },
    {
      "cell_type": "code",
      "metadata": {
        "id": "AMXC8-KMVirw"
      },
      "source": [
        "from sklearn.compose import ColumnTransformer\n",
        "from sklearn.preprocessing import OneHotEncoder\n",
        "ct = ColumnTransformer(transformers=[('encoder', OneHotEncoder(), [0])], remainder='passthrough')\n",
        "X = np.array(ct.fit_transform(X))"
      ],
      "execution_count": null,
      "outputs": []
    },
    {
      "cell_type": "code",
      "metadata": {
        "colab": {
          "base_uri": "https://localhost:8080/"
        },
        "id": "ZcxwEon-b8nV",
        "outputId": "30dafae7-6888-4619-ee11-300a5c396a99"
      },
      "source": [
        "print(X)"
      ],
      "execution_count": null,
      "outputs": [
        {
          "output_type": "stream",
          "text": [
            "[[0.0 0.0 0.0 ... 36 53 3]\n",
            " [0.0 0.0 0.0 ... 109 111 76]\n",
            " [0.0 0.0 0.0 ... 136 70 5]\n",
            " ...\n",
            " [0.0 0.0 1.0 ... 99 66 40]\n",
            " [0.0 0.0 1.0 ... 123 243 26]\n",
            " [0.0 0.0 1.0 ... 83 396 21]]\n"
          ],
          "name": "stdout"
        }
      ]
    },
    {
      "cell_type": "markdown",
      "metadata": {
        "id": "vHol938cW8zd"
      },
      "source": [
        "### Splitting the dataset into the Training set and Test set"
      ]
    },
    {
      "cell_type": "code",
      "metadata": {
        "id": "Z-TDt0Y_XEfc"
      },
      "source": [
        "from sklearn.model_selection import train_test_split\n",
        "X_train, X_test, y_train, y_test = train_test_split(X, y, test_size = 0.3, random_state = 0)\n",
        "# random_state: Pass an int for reproducible output across multiple function calls"
      ],
      "execution_count": null,
      "outputs": []
    },
    {
      "cell_type": "markdown",
      "metadata": {
        "id": "RE_FcHyfV3TQ"
      },
      "source": [
        "### Feature Scaling"
      ]
    },
    {
      "cell_type": "code",
      "metadata": {
        "id": "ViCrE00rV8Sk"
      },
      "source": [
        "from sklearn.preprocessing import StandardScaler\n",
        "sc = StandardScaler()\n",
        "X_train = sc.fit_transform(X_train) # Feature scale even the one-hot-encoded variables for deep learning\n",
        "X_test = sc.transform(X_test) # Not fitted to the test set to avoid information leakage\n",
        "                              # Using the same scaler (fit mean and std dev) as the training data because \n",
        "                              # the test data is \"unavailable\""
      ],
      "execution_count": null,
      "outputs": []
    },
    {
      "cell_type": "code",
      "metadata": {
        "id": "PnA5Ofrw83FN"
      },
      "source": [
        "# print(X_test)"
      ],
      "execution_count": null,
      "outputs": []
    },
    {
      "cell_type": "markdown",
      "metadata": {
        "id": "bYUOnexcR3N_"
      },
      "source": [
        "# Keras Tuner ANN model with layer hypertuning"
      ]
    },
    {
      "cell_type": "markdown",
      "metadata": {
        "id": "iXk-xyp5VMB8"
      },
      "source": [
        "Adapted from: https://keras-team.github.io/keras-tuner/"
      ]
    },
    {
      "cell_type": "markdown",
      "metadata": {
        "id": "4SfYRGduVUz3"
      },
      "source": [
        "## Define the model builder function"
      ]
    },
    {
      "cell_type": "code",
      "metadata": {
        "id": "xI5x1r7929JE"
      },
      "source": [
        "tf.keras.backend.clear_session() "
      ],
      "execution_count": null,
      "outputs": []
    },
    {
      "cell_type": "code",
      "metadata": {
        "id": "mRsrFMzEVOk8"
      },
      "source": [
        "def build_model(hp):\n",
        "    model = keras.Sequential()\n",
        "\n",
        "    # Dropout function: keras.layers.Dropout(0.3)\n",
        "\n",
        "    # Hyperparameter specifying the number of hidden layers\n",
        "    for i in range(hp.Int('num_layers', 1, 5)):\n",
        "        model.add(tf.keras.layers.Dense(units=hp.Int('units_' + str(i),\n",
        "                                            min_value=2,\n",
        "                                            max_value=28,\n",
        "                                            step=2),\n",
        "                                        kernel_regularizer='l2', # the default values used are l1=0.01 and l2=0.01\n",
        "                                        activation='relu'))\n",
        "    \n",
        "    # Define the output layer with units=1 for a binary output\n",
        "    model.add(tf.keras.layers.Dense(units=1, activation='sigmoid')) # activation = 'softmax' for non-binary\n",
        "\n",
        "    # Tune the learning rate for the optimizer\n",
        "    # Choose an optimal value from 0.01, 0.001\n",
        "    hp_learning_rate = hp.Choice('learning_rate', values=[1e-2, 1e-3])\n",
        "\n",
        "    model.compile(optimizer=keras.optimizers.Adam(learning_rate=hp_learning_rate),\n",
        "                loss=keras.losses.BinaryCrossentropy(from_logits=True),\n",
        "                metrics=['AUC'])\n",
        "    \n",
        "    # I use AUC here, but val_auc for the tuner, splitting the training data for validation. \n",
        "    # When training the final model, I do not want to split the data further\n",
        "    # (i.e. validation_split=0.3) ---  I want to train the model with the best hyperparameters identified during\n",
        "    # tuning on the FULL training data set and thereafter evaluate it on the test data.\n",
        "\n",
        "    return model"
      ],
      "execution_count": null,
      "outputs": []
    },
    {
      "cell_type": "markdown",
      "metadata": {
        "id": "D4Xoz8CUq7wE"
      },
      "source": [
        "## Instantiate the tuner"
      ]
    },
    {
      "cell_type": "code",
      "metadata": {
        "id": "u_ktZgqerBgK"
      },
      "source": [
        "from kerastuner.tuners import BayesianOptimization\n",
        "from kerastuner.tuners import RandomSearch\n",
        "\n",
        "# 50 Bayesian combinations with 30 trials per combination\n",
        "MAX_TRIALS = 50\n",
        "EXECUTION_PER_TRIAL = 30\n",
        "MAX_EPOCHS = 100\n",
        "BATCH_SIZE = 32\n",
        "\n",
        "tuner = BayesianOptimization (\n",
        "    build_model,\n",
        "    objective=kt.Objective('val_auc', direction='max'),\n",
        "    max_trials=MAX_TRIALS,\n",
        "    executions_per_trial=EXECUTION_PER_TRIAL,\n",
        "    directory='my_dir',\n",
        "    project_name='silent_sound_ann_bayesian_search_1.1')\n",
        "\n",
        "# tuner = RandomSearch(\n",
        "#     build_model,\n",
        "#     objective=kt.Objective('val_auc', direction='max'),\n",
        "#     max_trials=MAX_TRIALS,\n",
        "#     executions_per_trial=EXECUTION_PER_TRIAL,\n",
        "#     directory='my_dir',\n",
        "#     project_name='silent_sound_ann_random_search_1.1')\n",
        "\n",
        "# Note from Keras: the purpose of having multiple executions per trial is to reduce\n",
        "# results variance and therefore be able to more accurately assess the performance of a model. "
      ],
      "execution_count": null,
      "outputs": []
    },
    {
      "cell_type": "markdown",
      "metadata": {
        "id": "T7-8sL5erg_r"
      },
      "source": [
        "Print a summary of the search space"
      ]
    },
    {
      "cell_type": "code",
      "metadata": {
        "colab": {
          "base_uri": "https://localhost:8080/"
        },
        "id": "ibRg_qBErj4T",
        "outputId": "fd686f7b-c256-47c0-adb1-b1bfd2197eb8"
      },
      "source": [
        "tuner.search_space_summary()"
      ],
      "execution_count": null,
      "outputs": [
        {
          "output_type": "stream",
          "text": [
            "Search space summary\n",
            "Default search space size: 3\n",
            "num_layers (Int)\n",
            "{'default': None, 'conditions': [], 'min_value': 1, 'max_value': 5, 'step': 1, 'sampling': None}\n",
            "units_0 (Int)\n",
            "{'default': None, 'conditions': [], 'min_value': 2, 'max_value': 28, 'step': 2, 'sampling': None}\n",
            "learning_rate (Choice)\n",
            "{'default': 0.01, 'conditions': [], 'values': [0.01, 0.001], 'ordered': True}\n"
          ],
          "name": "stdout"
        }
      ]
    },
    {
      "cell_type": "markdown",
      "metadata": {
        "id": "aEoC3TuElBzM"
      },
      "source": [
        "Implement an early stopping mechanism"
      ]
    },
    {
      "cell_type": "code",
      "metadata": {
        "id": "jcjJTwBOlZHd"
      },
      "source": [
        "stop_early = tf.keras.callbacks.EarlyStopping(monitor='val_loss', patience=5)\n",
        "\n",
        "# This callback will stop the training when there is no improvement in\n",
        "# the validation loss for five consecutive epochs."
      ],
      "execution_count": null,
      "outputs": []
    },
    {
      "cell_type": "markdown",
      "metadata": {
        "id": "cgquG_QssJWD"
      },
      "source": [
        "## Search for the best hyperparameter configuration"
      ]
    },
    {
      "cell_type": "code",
      "metadata": {
        "colab": {
          "background_save": true,
          "base_uri": "https://localhost:8080/"
        },
        "id": "1ZwJftKVsQjj",
        "outputId": "47cb2058-99e9-4c23-ebe0-01dfa93cf5c1"
      },
      "source": [
        "# Run the Search tuner for MAX_TRIALS combinations, EXECUTION_PER_TRIAL executions per combinationa and 30 epochs per trial.\n",
        "\n",
        "tuner.search(X_train, y_train,\n",
        "             batch_size = BATCH_SIZE,\n",
        "             epochs=MAX_EPOCHS, # The best_epochs value in subsequent sections is usually between 30 and 100\n",
        "             validation_split=0.3,\n",
        "             callbacks=[stop_early]) \n",
        "\n",
        "             # The validation performance is the criterion by which the best hyperparameter configuration is chosen"
      ],
      "execution_count": null,
      "outputs": [
        {
          "output_type": "stream",
          "text": [
            "Trial 50 Complete [00h 02m 05s]\n",
            "val_auc: 0.9425679087638855\n",
            "\n",
            "Best val_auc So Far: 0.9457654456297556\n",
            "Total elapsed time: 01h 57m 20s\n",
            "INFO:tensorflow:Oracle triggered exit\n"
          ],
          "name": "stdout"
        }
      ]
    },
    {
      "cell_type": "markdown",
      "metadata": {
        "id": "i_w4FmbIuY8c"
      },
      "source": [
        "Summary of the results"
      ]
    },
    {
      "cell_type": "code",
      "metadata": {
        "colab": {
          "background_save": true
        },
        "id": "JiZMlC5QuvX_",
        "outputId": "55590e98-92eb-40c9-e1b7-f3d262f800c1"
      },
      "source": [
        "tuner.results_summary(num_trials=10)"
      ],
      "execution_count": null,
      "outputs": [
        {
          "output_type": "stream",
          "text": [
            "Results summary\n",
            "Results in my_dir/silent_sound_ann_bayesian_search_1.1\n",
            "Showing 10 best trials\n",
            "Objective(name='val_auc', direction='max')\n",
            "Trial summary\n",
            "Hyperparameters:\n",
            "num_layers: 1\n",
            "units_0: 28\n",
            "learning_rate: 0.01\n",
            "units_1: 28\n",
            "units_2: 2\n",
            "units_3: 2\n",
            "units_4: 12\n",
            "Score: 0.9457654456297556\n",
            "Trial summary\n",
            "Hyperparameters:\n",
            "num_layers: 1\n",
            "units_0: 28\n",
            "learning_rate: 0.01\n",
            "units_1: 28\n",
            "units_2: 28\n",
            "units_3: 2\n",
            "units_4: 28\n",
            "Score: 0.9449382861455281\n",
            "Trial summary\n",
            "Hyperparameters:\n",
            "num_layers: 1\n",
            "units_0: 28\n",
            "learning_rate: 0.01\n",
            "units_1: 2\n",
            "units_2: 2\n",
            "units_3: 2\n",
            "units_4: 14\n",
            "Score: 0.9448395133018493\n",
            "Trial summary\n",
            "Hyperparameters:\n",
            "num_layers: 1\n",
            "units_0: 28\n",
            "learning_rate: 0.01\n",
            "units_1: 28\n",
            "units_2: 28\n",
            "units_3: 28\n",
            "units_4: 28\n",
            "Score: 0.9445185323556264\n",
            "Trial summary\n",
            "Hyperparameters:\n",
            "num_layers: 1\n",
            "units_0: 28\n",
            "learning_rate: 0.01\n",
            "units_1: 28\n",
            "units_2: 2\n",
            "units_3: 2\n",
            "units_4: 28\n",
            "Score: 0.9441728552182516\n",
            "Trial summary\n",
            "Hyperparameters:\n",
            "num_layers: 1\n",
            "units_0: 28\n",
            "learning_rate: 0.01\n",
            "units_1: 28\n",
            "units_2: 2\n",
            "units_3: 6\n",
            "units_4: 28\n",
            "Score: 0.9441481471061707\n",
            "Trial summary\n",
            "Hyperparameters:\n",
            "num_layers: 1\n",
            "units_0: 28\n",
            "learning_rate: 0.01\n",
            "units_1: 28\n",
            "units_2: 2\n",
            "units_3: 2\n",
            "units_4: 28\n",
            "Score: 0.9440123597780864\n",
            "Trial summary\n",
            "Hyperparameters:\n",
            "num_layers: 1\n",
            "units_0: 28\n",
            "learning_rate: 0.01\n",
            "units_1: 16\n",
            "units_2: 28\n",
            "units_3: 2\n",
            "units_4: 16\n",
            "Score: 0.9439753115177154\n",
            "Trial summary\n",
            "Hyperparameters:\n",
            "num_layers: 1\n",
            "units_0: 28\n",
            "learning_rate: 0.01\n",
            "units_1: 28\n",
            "units_2: 2\n",
            "units_3: 2\n",
            "units_4: 28\n",
            "Score: 0.943962981303533\n",
            "Trial summary\n",
            "Hyperparameters:\n",
            "num_layers: 1\n",
            "units_0: 28\n",
            "learning_rate: 0.01\n",
            "units_1: 22\n",
            "units_2: 14\n",
            "units_3: 2\n",
            "units_4: 28\n",
            "Score: 0.9438395301500956\n"
          ],
          "name": "stdout"
        }
      ]
    },
    {
      "cell_type": "markdown",
      "metadata": {
        "id": "xDdfzJPVvmlL"
      },
      "source": [
        "## Retrain the model with the best hyperparameters"
      ]
    },
    {
      "cell_type": "markdown",
      "metadata": {
        "id": "JyvvAw2Nvy-6"
      },
      "source": [
        "Save the best hyperparameters"
      ]
    },
    {
      "cell_type": "code",
      "metadata": {
        "colab": {
          "background_save": true
        },
        "id": "vCeULfmQv11r"
      },
      "source": [
        "# Get the optimal hyperparameters\n",
        "best_hps=tuner.get_best_hyperparameters(num_trials=1)[0] # num_trials=2 will return the hp's of the best 2 trials"
      ],
      "execution_count": null,
      "outputs": []
    },
    {
      "cell_type": "markdown",
      "metadata": {
        "id": "mv7rS7icCuWf"
      },
      "source": [
        "Create a log directory for Tensorboard"
      ]
    },
    {
      "cell_type": "code",
      "metadata": {
        "colab": {
          "background_save": true
        },
        "id": "aiBsN8DzHhea"
      },
      "source": [
        "# Load the TensorBoard notebook extension\n",
        "%load_ext tensorboard\n",
        "\n",
        "import datetime, os\n",
        "\n",
        "logdir = os.path.join(\"history_logs_random_search\", datetime.datetime.now().strftime(\"%Y%m%d-%H%M%S\"))\n",
        "tensorboard_callback = tf.keras.callbacks.TensorBoard(logdir, histogram_freq=1)"
      ],
      "execution_count": null,
      "outputs": []
    },
    {
      "cell_type": "markdown",
      "metadata": {
        "id": "F5EU8ybtv2bT"
      },
      "source": [
        "Over-fitting: Retrain the model and identify the best epoch (epoch at which the largest val_auc is achieved)"
      ]
    },
    {
      "cell_type": "code",
      "metadata": {
        "id": "aMObYBgyvl0b"
      },
      "source": [
        "# Build the model with the optimal hyperparameters and train it on the data for 100 epochs\n",
        "model = tuner.hypermodel.build(best_hps)\n",
        "history = model.fit(X_train, y_train,\n",
        "                    batch_size = BATCH_SIZE,\n",
        "                    epochs = 100,\n",
        "                    validation_split=0.3,\n",
        "                    callbacks=[tensorboard_callback]) \n",
        "\n",
        "# Overfitting: After about 20 epochs, the model fits the data with an AUC of 1.00, but the val_AUC declines from about 0.92 to 0.82\n",
        "# Determine the optimal number of epochs based on the validation data\n",
        "\n",
        "# Validation Split (validation_split=0.3)\n",
        "# Fraction of the training data to be used as validation data.\n",
        "# The model will set apart this fraction of the training data, will not train on it, and will evaluate\n",
        "# the loss and any model metrics on this data at the end of each epoch.\n",
        "# The validation data is selected from the last samples in the x and y data provided, before shuffling. \n",
        "\n",
        "val_auc_per_epoch = history.history['val_auc']\n",
        "best_epoch = val_auc_per_epoch.index(max(val_auc_per_epoch)) + 1\n",
        "print('Best epoch: %d' % (best_epoch,))"
      ],
      "execution_count": null,
      "outputs": []
    },
    {
      "cell_type": "markdown",
      "metadata": {
        "id": "mi4T1XqOHmbA"
      },
      "source": [
        "## Inspect the training Tensorboard"
      ]
    },
    {
      "cell_type": "code",
      "metadata": {
        "id": "zH9PierS_M3U"
      },
      "source": [
        "%tensorboard --logdir history_logs_random_search "
      ],
      "execution_count": null,
      "outputs": []
    },
    {
      "cell_type": "markdown",
      "metadata": {
        "id": "iwnaqR8_T9ml"
      },
      "source": [
        "## Train the final hypermodel"
      ]
    },
    {
      "cell_type": "markdown",
      "metadata": {
        "id": "bae4jeOLObZd"
      },
      "source": [
        "This section exists so as to evaluate the model performance on the test set."
      ]
    },
    {
      "cell_type": "markdown",
      "metadata": {
        "id": "UEZcPAIfwlB7"
      },
      "source": [
        "Re-instantiate the hypermodel and train it with the optimal number of epochs from above."
      ]
    },
    {
      "cell_type": "code",
      "metadata": {
        "colab": {
          "background_save": true
        },
        "id": "CLHKVH6VwyLS",
        "outputId": "817a9049-ec48-4c03-9c24-76250149da16"
      },
      "source": [
        "hypermodel = tuner.hypermodel.build(best_hps)\n",
        "\n",
        "# Retrain the model\n",
        "hypermodel.fit(X_train, y_train, batch_size = BATCH_SIZE, epochs=best_epoch) # best_epoch"
      ],
      "execution_count": null,
      "outputs": [
        {
          "output_type": "stream",
          "text": [
            "Epoch 1/78\n",
            "9/9 [==============================] - 1s 2ms/step - loss: 0.9338 - auc: 0.5738\n",
            "Epoch 2/78\n",
            "9/9 [==============================] - 0s 2ms/step - loss: 0.6524 - auc: 0.8030\n",
            "Epoch 3/78\n",
            "9/9 [==============================] - 0s 4ms/step - loss: 0.5035 - auc: 0.9066\n",
            "Epoch 4/78\n",
            "9/9 [==============================] - 0s 3ms/step - loss: 0.4575 - auc: 0.9260\n",
            "Epoch 5/78\n",
            "9/9 [==============================] - 0s 3ms/step - loss: 0.3933 - auc: 0.9427\n",
            "Epoch 6/78\n",
            "9/9 [==============================] - 0s 3ms/step - loss: 0.3949 - auc: 0.9496\n",
            "Epoch 7/78\n",
            "9/9 [==============================] - 0s 3ms/step - loss: 0.3687 - auc: 0.9562\n",
            "Epoch 8/78\n",
            "9/9 [==============================] - 0s 3ms/step - loss: 0.3411 - auc: 0.9581\n",
            "Epoch 9/78\n",
            "9/9 [==============================] - 0s 2ms/step - loss: 0.3477 - auc: 0.9582\n",
            "Epoch 10/78\n",
            "9/9 [==============================] - 0s 3ms/step - loss: 0.3193 - auc: 0.9683\n",
            "Epoch 11/78\n",
            "9/9 [==============================] - 0s 2ms/step - loss: 0.3111 - auc: 0.9685\n",
            "Epoch 12/78\n",
            "9/9 [==============================] - 0s 3ms/step - loss: 0.2927 - auc: 0.9709\n",
            "Epoch 13/78\n",
            "9/9 [==============================] - 0s 5ms/step - loss: 0.2907 - auc: 0.9680\n",
            "Epoch 14/78\n",
            "9/9 [==============================] - 0s 3ms/step - loss: 0.3035 - auc: 0.9673\n",
            "Epoch 15/78\n",
            "9/9 [==============================] - 0s 3ms/step - loss: 0.2971 - auc: 0.9691\n",
            "Epoch 16/78\n",
            "9/9 [==============================] - 0s 2ms/step - loss: 0.2917 - auc: 0.9683\n",
            "Epoch 17/78\n",
            "9/9 [==============================] - 0s 2ms/step - loss: 0.2660 - auc: 0.9765\n",
            "Epoch 18/78\n",
            "9/9 [==============================] - 0s 4ms/step - loss: 0.2533 - auc: 0.9820\n",
            "Epoch 19/78\n",
            "9/9 [==============================] - 0s 3ms/step - loss: 0.2782 - auc: 0.9711\n",
            "Epoch 20/78\n",
            "9/9 [==============================] - 0s 3ms/step - loss: 0.2552 - auc: 0.9839\n",
            "Epoch 21/78\n",
            "9/9 [==============================] - 0s 3ms/step - loss: 0.2605 - auc: 0.9804\n",
            "Epoch 22/78\n",
            "9/9 [==============================] - 0s 3ms/step - loss: 0.2505 - auc: 0.9811\n",
            "Epoch 23/78\n",
            "9/9 [==============================] - 0s 2ms/step - loss: 0.2615 - auc: 0.9796\n",
            "Epoch 24/78\n",
            "9/9 [==============================] - 0s 3ms/step - loss: 0.2374 - auc: 0.9839\n",
            "Epoch 25/78\n",
            "9/9 [==============================] - 0s 2ms/step - loss: 0.2166 - auc: 0.9886\n",
            "Epoch 26/78\n",
            "9/9 [==============================] - 0s 3ms/step - loss: 0.2447 - auc: 0.9864\n",
            "Epoch 27/78\n",
            "9/9 [==============================] - 0s 2ms/step - loss: 0.2390 - auc: 0.9856\n",
            "Epoch 28/78\n",
            "9/9 [==============================] - 0s 2ms/step - loss: 0.2386 - auc: 0.9864\n",
            "Epoch 29/78\n",
            "9/9 [==============================] - 0s 3ms/step - loss: 0.2448 - auc: 0.9819\n",
            "Epoch 30/78\n",
            "9/9 [==============================] - 0s 2ms/step - loss: 0.2319 - auc: 0.9891\n",
            "Epoch 31/78\n",
            "9/9 [==============================] - 0s 3ms/step - loss: 0.2166 - auc: 0.9876\n",
            "Epoch 32/78\n",
            "9/9 [==============================] - 0s 2ms/step - loss: 0.2249 - auc: 0.9884\n",
            "Epoch 33/78\n",
            "9/9 [==============================] - 0s 2ms/step - loss: 0.2155 - auc: 0.9932\n",
            "Epoch 34/78\n",
            "9/9 [==============================] - 0s 2ms/step - loss: 0.2165 - auc: 0.9909\n",
            "Epoch 35/78\n",
            "9/9 [==============================] - 0s 2ms/step - loss: 0.2164 - auc: 0.9883\n",
            "Epoch 36/78\n",
            "9/9 [==============================] - 0s 2ms/step - loss: 0.2257 - auc: 0.9864\n",
            "Epoch 37/78\n",
            "9/9 [==============================] - 0s 3ms/step - loss: 0.1992 - auc: 0.9933\n",
            "Epoch 38/78\n",
            "9/9 [==============================] - 0s 3ms/step - loss: 0.2091 - auc: 0.9930\n",
            "Epoch 39/78\n",
            "9/9 [==============================] - 0s 2ms/step - loss: 0.2131 - auc: 0.9910\n",
            "Epoch 40/78\n",
            "9/9 [==============================] - 0s 2ms/step - loss: 0.2406 - auc: 0.9871\n",
            "Epoch 41/78\n",
            "9/9 [==============================] - 0s 2ms/step - loss: 0.2049 - auc: 0.9950\n",
            "Epoch 42/78\n",
            "9/9 [==============================] - 0s 2ms/step - loss: 0.2206 - auc: 0.9900\n",
            "Epoch 43/78\n",
            "9/9 [==============================] - 0s 2ms/step - loss: 0.2159 - auc: 0.9911\n",
            "Epoch 44/78\n",
            "9/9 [==============================] - 0s 3ms/step - loss: 0.2061 - auc: 0.9940\n",
            "Epoch 45/78\n",
            "9/9 [==============================] - 0s 2ms/step - loss: 0.1909 - auc: 0.9950\n",
            "Epoch 46/78\n",
            "9/9 [==============================] - 0s 2ms/step - loss: 0.2039 - auc: 0.9934\n",
            "Epoch 47/78\n",
            "9/9 [==============================] - 0s 2ms/step - loss: 0.2085 - auc: 0.9938\n",
            "Epoch 48/78\n",
            "9/9 [==============================] - 0s 3ms/step - loss: 0.2012 - auc: 0.9958\n",
            "Epoch 49/78\n",
            "9/9 [==============================] - 0s 2ms/step - loss: 0.1925 - auc: 0.9957\n",
            "Epoch 50/78\n",
            "9/9 [==============================] - 0s 2ms/step - loss: 0.1903 - auc: 0.9937\n",
            "Epoch 51/78\n",
            "9/9 [==============================] - 0s 3ms/step - loss: 0.1932 - auc: 0.9938\n",
            "Epoch 52/78\n",
            "9/9 [==============================] - 0s 3ms/step - loss: 0.1986 - auc: 0.9929\n",
            "Epoch 53/78\n",
            "9/9 [==============================] - 0s 3ms/step - loss: 0.1864 - auc: 0.9941\n",
            "Epoch 54/78\n",
            "9/9 [==============================] - 0s 3ms/step - loss: 0.2024 - auc: 0.9935\n",
            "Epoch 55/78\n",
            "9/9 [==============================] - 0s 3ms/step - loss: 0.1733 - auc: 0.9964\n",
            "Epoch 56/78\n",
            "9/9 [==============================] - 0s 3ms/step - loss: 0.1890 - auc: 0.9926\n",
            "Epoch 57/78\n",
            "9/9 [==============================] - 0s 2ms/step - loss: 0.1725 - auc: 0.9963\n",
            "Epoch 58/78\n",
            "9/9 [==============================] - 0s 2ms/step - loss: 0.1814 - auc: 0.9981\n",
            "Epoch 59/78\n",
            "9/9 [==============================] - 0s 2ms/step - loss: 0.1765 - auc: 0.9965\n",
            "Epoch 60/78\n",
            "9/9 [==============================] - 0s 2ms/step - loss: 0.1695 - auc: 0.9985\n",
            "Epoch 61/78\n",
            "9/9 [==============================] - 0s 2ms/step - loss: 0.1826 - auc: 0.9945\n",
            "Epoch 62/78\n",
            "9/9 [==============================] - 0s 2ms/step - loss: 0.1921 - auc: 0.9923\n",
            "Epoch 63/78\n",
            "9/9 [==============================] - 0s 3ms/step - loss: 0.2040 - auc: 0.9931\n",
            "Epoch 64/78\n",
            "9/9 [==============================] - 0s 2ms/step - loss: 0.1938 - auc: 0.9927\n",
            "Epoch 65/78\n",
            "9/9 [==============================] - 0s 3ms/step - loss: 0.2030 - auc: 0.9910\n",
            "Epoch 66/78\n",
            "9/9 [==============================] - 0s 2ms/step - loss: 0.1926 - auc: 0.9915\n",
            "Epoch 67/78\n",
            "9/9 [==============================] - 0s 3ms/step - loss: 0.2005 - auc: 0.9913\n",
            "Epoch 68/78\n",
            "9/9 [==============================] - 0s 3ms/step - loss: 0.1802 - auc: 0.9973\n",
            "Epoch 69/78\n",
            "9/9 [==============================] - 0s 2ms/step - loss: 0.1802 - auc: 0.9953\n",
            "Epoch 70/78\n",
            "9/9 [==============================] - 0s 4ms/step - loss: 0.1607 - auc: 0.9969\n",
            "Epoch 71/78\n",
            "9/9 [==============================] - 0s 3ms/step - loss: 0.1701 - auc: 0.9969\n",
            "Epoch 72/78\n",
            "9/9 [==============================] - 0s 3ms/step - loss: 0.1630 - auc: 0.9986\n",
            "Epoch 73/78\n",
            "9/9 [==============================] - 0s 2ms/step - loss: 0.1785 - auc: 0.9949\n",
            "Epoch 74/78\n",
            "9/9 [==============================] - 0s 2ms/step - loss: 0.1696 - auc: 0.9976\n",
            "Epoch 75/78\n",
            "9/9 [==============================] - 0s 2ms/step - loss: 0.1572 - auc: 0.9982\n",
            "Epoch 76/78\n",
            "9/9 [==============================] - 0s 3ms/step - loss: 0.1828 - auc: 0.9960\n",
            "Epoch 77/78\n",
            "9/9 [==============================] - 0s 3ms/step - loss: 0.1825 - auc: 0.9944\n",
            "Epoch 78/78\n",
            "9/9 [==============================] - 0s 4ms/step - loss: 0.1697 - auc: 0.9982\n"
          ],
          "name": "stdout"
        },
        {
          "output_type": "execute_result",
          "data": {
            "text/plain": [
              "<tensorflow.python.keras.callbacks.History at 0x7fee84b4ed10>"
            ]
          },
          "metadata": {
            "tags": []
          },
          "execution_count": 0
        }
      ]
    },
    {
      "cell_type": "markdown",
      "metadata": {
        "id": "zhBBei6ayYtT"
      },
      "source": [
        "## Evaluate the hypermodel on the test data"
      ]
    },
    {
      "cell_type": "code",
      "metadata": {
        "id": "Do2TyO23yclm"
      },
      "source": [
        "eval_result = hypermodel.evaluate(X_test, y_test)\n",
        "print(\"[test loss, test auc]:\", eval_result)"
      ],
      "execution_count": null,
      "outputs": []
    }
  ]
}